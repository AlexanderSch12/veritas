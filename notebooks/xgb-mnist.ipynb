{
 "cells": [
  {
   "cell_type": "code",
   "execution_count": null,
   "metadata": {},
   "outputs": [],
   "source": [
    "%load_ext autoreload\n",
    "%autoreload 2"
   ]
  },
  {
   "cell_type": "code",
   "execution_count": null,
   "metadata": {},
   "outputs": [],
   "source": [
    "import numpy as np\n",
    "import xgboost as xgb\n",
    "import matplotlib.pyplot as plt\n",
    "import scipy\n",
    "\n",
    "from sklearn.metrics import accuracy_score, mean_absolute_error\n",
    "from functools import partial\n",
    "\n",
    "from treeck import SplitTree\n",
    "from treeck.xgb import addtree_from_xgb_model\n",
    "from treeck.verifier import Verifier\n",
    "from treeck.distributed import DistributedVerifier\n",
    "from treeck.z3backend import Z3Backend as Backend\n",
    "import z3\n",
    "\n",
    "from dask.distributed import Client"
   ]
  },
  {
   "cell_type": "code",
   "execution_count": null,
   "metadata": {},
   "outputs": [],
   "source": [
    "mat = scipy.io.loadmat(\"../tests/data/mnist.mat\")\n",
    "X = mat[\"X\"]\n",
    "y = mat[\"y\"].reshape((70000,))\n",
    "\n",
    "num_examples = X.shape[0]\n",
    "num_features = X.shape[1]\n",
    "\n",
    "np.random.seed(111)\n",
    "indices = np.random.permutation(num_examples)\n",
    "\n",
    "m = int(num_examples*0.9)\n",
    "Itrain = indices[0:m]\n",
    "Itest = indices[m:]"
   ]
  },
  {
   "cell_type": "code",
   "execution_count": null,
   "metadata": {},
   "outputs": [],
   "source": [
    "label = y==5\n",
    "dtrain = xgb.DMatrix(X[Itrain], label[Itrain], missing=0)\n",
    "dtest = xgb.DMatrix(X[Itest], label[Itest], missing=0)\n",
    "\n",
    "params = {\n",
    "    \"objective\": \"binary:logistic\",\n",
    "    \"tree_method\": \"hist\",\n",
    "    \"max_depth\": 6,\n",
    "    \"learning_rate\": 0.25,\n",
    "    \"eval_metric\": \"error\"\n",
    "}\n",
    "#xgb.cv(params, dtrain,\n",
    "#      num_boost_round = 10,\n",
    "#      nfold=5, metrics={'error'}, seed=0,\n",
    "#      callbacks=[xgb.callback.print_evaluation(show_stdv=True),\n",
    "#                 xgb.callback.early_stop(3)])\n",
    "model = xgb.train(params, dtrain, num_boost_round=200,\n",
    "                  early_stopping_rounds=5,\n",
    "                  evals=[(dtrain, \"train\"), (dtest, \"test\")])"
   ]
  },
  {
   "cell_type": "code",
   "execution_count": null,
   "metadata": {},
   "outputs": [],
   "source": [
    "at = addtree_from_xgb_model(num_features, model)\n",
    "at.base_score = 0.0\n",
    "pred = model.predict(xgb.DMatrix(X), output_margin=True)\n",
    "acc = accuracy_score(pred > 0.0, label)\n",
    "print(f\"accuracy: {acc}\")\n",
    "mae = mean_absolute_error(pred[:10000], at.predict(X[:10000]))\n",
    "print(f\"mae model difference {mae}\")"
   ]
  },
  {
   "cell_type": "code",
   "execution_count": null,
   "metadata": {},
   "outputs": [],
   "source": [
    "instance_index = np.argmax(y == 5)\n",
    "instance = X[instance_index, :]\n",
    "\n",
    "fig, ax = plt.subplots()\n",
    "ax.imshow(instance.reshape((28,28)))\n",
    "plt.show()"
   ]
  },
  {
   "cell_type": "code",
   "execution_count": null,
   "metadata": {},
   "outputs": [],
   "source": [
    "def vfactory(instance, num_features, at, leaf):\n",
    "    offset = 10\n",
    "    max_sum_offset = 500\n",
    "    v = Verifier(at, leaf, Backend())\n",
    "    \n",
    "    sum_constraint = 0\n",
    "    for j, pixel in zip(range(num_features), instance):\n",
    "        x = v.xvar(j)\n",
    "        v.add_constraint((x > max(0, pixel-offset)) & (x < min(255, pixel+offset)))\n",
    "        sum_constraint += z3.If(x.get()-pixel <= 0, pixel-x.get(), x.get()-pixel)\n",
    "    v.add_constraint(sum_constraint < max_sum_offset)\n",
    "    v.add_constraint(v.fvar() < 0.0)\n",
    "    return v\n",
    "\n",
    "vfac = partial(vfactory, instance, num_features)\n",
    "\n",
    "with Client(\"tcp://localhost:30333\") as client:\n",
    "    #client.restart()\n",
    "    st = SplitTree(at, {})\n",
    "    dv = DistributedVerifier(client, st, vfac,\n",
    "            check_paths = False,\n",
    "            saturate_workers_factor=1,\n",
    "            stop_when_sat = False)\n",
    "\n",
    "    dv.check()"
   ]
  },
  {
   "cell_type": "code",
   "execution_count": null,
   "metadata": {},
   "outputs": [],
   "source": [
    "for domtree_node_id, res in dv.results.items():\n",
    "    status = res[\"status\"]\n",
    "    print(domtree_node_id, status)\n",
    "    \n",
    "    if status.is_sat():\n",
    "        fig, (ax0, ax1) = plt.subplots(1, 2, figsize=(11,4))\n",
    "        inst = np.array(res[\"model\"][\"xs\"]).reshape((28,28))\n",
    "        im0 = ax0.imshow(inst)\n",
    "        im1 = ax1.imshow(inst-instance.reshape((28,28)))\n",
    "        fig.colorbar(im0, ax=ax0)\n",
    "        fig.colorbar(im1, ax=ax1)\n",
    "        ax0.set_title(f\"f={at.predict_single(instance):.4f}\")\n",
    "        ax1.set_title(f\"f={res['model']['f']:.4f}\")\n",
    "        plt.show()"
   ]
  },
  {
   "cell_type": "code",
   "execution_count": null,
   "metadata": {},
   "outputs": [],
   "source": []
  }
 ],
 "metadata": {
  "@webio": {
   "lastCommId": "35483bf00e5445dd808a57870fc18ee4",
   "lastKernelId": "9dd905f9-06fd-4834-949c-9d067168224a"
  },
  "kernelspec": {
   "display_name": "Python 3",
   "language": "python",
   "name": "python3"
  },
  "language_info": {
   "codemirror_mode": {
    "name": "ipython",
    "version": 3
   },
   "file_extension": ".py",
   "mimetype": "text/x-python",
   "name": "python",
   "nbconvert_exporter": "python",
   "pygments_lexer": "ipython3",
   "version": "3.7.4"
  }
 },
 "nbformat": 4,
 "nbformat_minor": 2
}
