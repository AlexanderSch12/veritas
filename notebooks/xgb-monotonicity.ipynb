{
 "cells": [
  {
   "cell_type": "code",
   "execution_count": null,
   "metadata": {},
   "outputs": [],
   "source": [
    "import asyncio\n",
    "import numpy as np\n",
    "import xgboost as xgb\n",
    "import matplotlib.pyplot as plt\n",
    "\n",
    "%matplotlib notebook"
   ]
  },
  {
   "cell_type": "code",
   "execution_count": null,
   "metadata": {},
   "outputs": [],
   "source": [
    "def f(X):\n",
    "    y = 10*X[:,0] + 0.5*np.sin(2*4*X[:,0]*np.pi)\n",
    "    y -= 10*X[:,1] + np.cos(2*4*X[:,1]*np.pi)\n",
    "    y += np.random.randn(X.shape[0])\n",
    "    return y\n",
    "\n",
    "def generate_X(N):\n",
    "    X1 = np.linspace(0, 1, N)\n",
    "    X2 = np.linspace(0, 1, N)\n",
    "    np.random.seed(1)\n",
    "    np.random.shuffle(X2)\n",
    "    X = np.array([X1, X2]).T\n",
    "    return X\n",
    "\n",
    "def fit_model(N, constr):\n",
    "    X = generate_X(N)\n",
    "    y = f(X)\n",
    "    params = {\n",
    "        \"objective\": \"reg:squarederror\",\n",
    "        \"tree_method\": \"exact\",\n",
    "        \"max_depth\": 4,\n",
    "        \"learning_rate\": 0.5,\n",
    "        \"monotone_constraints\": constr\n",
    "    }\n",
    "    dtrain = xgb.DMatrix(X, label=y)\n",
    "    model = xgb.train(params, dtrain, num_boost_round = 10, evals=[(dtrain,\"train\")])\n",
    "    yhat = model.predict(dtrain)\n",
    "    return X, y, yhat, model\n",
    "\n",
    "def plot_model(model, N):\n",
    "    fig, (ax0, ax1) = plt.subplots(1, 2, figsize=(9,3))\n",
    "    \n",
    "    X = np.array([np.linspace(0, 1, N), [0.5]*N]).T\n",
    "    y, yhat = f(X), model.predict(xgb.DMatrix(X))\n",
    "    \n",
    "    ax0.plot(X[:,0], y, marker=\".\", linewidth=0)\n",
    "    ax0.plot(X[:,0], yhat, \"x\", markersize=8)\n",
    "    \n",
    "    X = np.array([[0.5] * N, np.linspace(0, 1, N)]).T\n",
    "    y, yhat = f(X), model.predict(xgb.DMatrix(X))\n",
    "    \n",
    "    ax1.plot(X[:,1], y, marker=\".\", linewidth=0)\n",
    "    ax1.plot(X[:,1], yhat, \"x\", markersize=8)\n",
    "    \n",
    "    plt.show()"
   ]
  },
  {
   "cell_type": "code",
   "execution_count": null,
   "metadata": {},
   "outputs": [],
   "source": [
    "X, y, yhat, model = fit_model(200, \"(0,0)\")\n",
    "plot_model(model, 100)"
   ]
  },
  {
   "cell_type": "code",
   "execution_count": null,
   "metadata": {},
   "outputs": [],
   "source": [
    "X, y, yhat, model = fit_model(200, \"(1,0)\")\n",
    "plot_model(model, 100)"
   ]
  },
  {
   "cell_type": "code",
   "execution_count": null,
   "metadata": {},
   "outputs": [],
   "source": [
    "X, y, yhat, model = fit_model(200, \"(0,-1)\")\n",
    "plot_model(model, 100)"
   ]
  },
  {
   "cell_type": "code",
   "execution_count": null,
   "metadata": {},
   "outputs": [],
   "source": [
    "X, y, yhat, model = fit_model(200, \"(1,-1)\")\n",
    "plot_model(model, 100)"
   ]
  },
  {
   "cell_type": "markdown",
   "metadata": {},
   "source": [
    "# Verification"
   ]
  },
  {
   "cell_type": "code",
   "execution_count": null,
   "metadata": {},
   "outputs": [],
   "source": [
    "from treeck import SplitTree\n",
    "from treeck.xgb import addtree_from_xgb_model\n",
    "from treeck.verifier import Verifier, not_in_domain_constraint\n",
    "from treeck.distributed import DistributedVerifier\n",
    "from treeck.z3backend import Z3Backend as Backend\n",
    "\n",
    "from dask.distributed import Client"
   ]
  },
  {
   "cell_type": "code",
   "execution_count": null,
   "metadata": {},
   "outputs": [],
   "source": [
    "at = addtree_from_xgb_model(2, model)\n",
    "sqerr = sum((y - model.predict(xgb.DMatrix(X)))**2)\n",
    "sqcorr = sum((model.predict(xgb.DMatrix(X)) - at.predict(X))**2)\n",
    "print(f\"rmse train {np.sqrt(sqerr)/len(X):.4f}\")\n",
    "print(f\"rmse model difference {np.sqrt(sqcorr)/len(X):.4g}\")\n",
    "plot_model(model, 100)"
   ]
  },
  {
   "cell_type": "code",
   "execution_count": null,
   "metadata": {},
   "outputs": [],
   "source": [
    "def vfactory(at, leaf):\n",
    "    v = Verifier(at, leaf, Backend(), num_instances=2)\n",
    "    v.add_constraint(v.fvar(instance=0) > v.fvar(instance=1))\n",
    "    v.add_constraint(v.xvar(0, instance=0) < v.xvar(0, instance=1))\n",
    "    v.add_constraint(v.xvar(1, instance=0) == v.xvar(1, instance=1))\n",
    "    return v\n",
    "\n",
    "#with Client(\"tcp://localhost:30333\") as client:\n",
    "#    #client.restart()\n",
    "#    st = SplitTree(at, {})\n",
    "#    dv = DistributedVerifier(client, st, vfactory,\n",
    "#            check_paths = False,\n",
    "#            stop_when_sat = False)\n",
    "#\n",
    "#    dv.check()\n",
    "\n",
    "X11, X12, X2 = [], [], []\n",
    "f1, f2 = [], []\n",
    "\n",
    "st = SplitTree(at, {})\n",
    "v = vfactory(at, st.get_leaf(0))\n",
    "v.add_all_trees(instance=0); v.add_all_trees(instance=1)\n",
    "while v.check().is_sat() and len(X11) < 100:\n",
    "    m = v.model()\n",
    "    fam = v.model_family(m)\n",
    "    v.add_constraint(not_in_domain_constraint(v, fam[0]))\n",
    "    v.add_constraint(not_in_domain_constraint(v, fam[1]))\n",
    "\n",
    "    #print(\"sat:\", m[0][\"xs\"], \"=>\", m[0][\"f\"])\n",
    "    #print(\"    \", m[1][\"xs\"], \"=>\", m[1][\"f\"])\n",
    "    print(m[0][\"f\"], m[1][\"f\"], m[0][\"f\"]-m[1][\"f\"])\n",
    "    #print(\"    \", fam)\n",
    "    \n",
    "    X11.append(m[0][\"xs\"][0])\n",
    "    X12.append(m[1][\"xs\"][0])\n",
    "    X2.append(m[0][\"xs\"][1])\n",
    "    f1.append(m[0][\"f\"])\n",
    "    f2.append(m[1][\"f\"])\n",
    "    \n",
    "print(len(X11))"
   ]
  },
  {
   "cell_type": "code",
   "execution_count": null,
   "metadata": {
    "scrolled": false
   },
   "outputs": [],
   "source": [
    "fig, ax0 = plt.subplots(figsize=(9.5,6))\n",
    "aaa = np.array([np.linspace(0, 1, 100), [0.5]*100]).T\n",
    "bbb, ccc = f(aaa), model.predict(xgb.DMatrix(aaa))\n",
    "ax0.plot(aaa[:,0], bbb, marker=\".\", linewidth=0)\n",
    "ax0.plot(aaa[:,0], ccc, \"x\", markersize=8)\n",
    "\n",
    "if len(X11) > 0:\n",
    "    ym1 = model.predict(xgb.DMatrix(np.array([X11, X2]).T))\n",
    "    ym2 = model.predict(xgb.DMatrix(np.array([X12, X2]).T))\n",
    "    ya1 = np.array(at.predict(list(zip(X11, X2))))\n",
    "    ya2 = np.array(at.predict(list(zip(X12, X2))))\n",
    "    print(max(abs(ym1-ya1)))\n",
    "    print(max(abs(ym2-ya2)))\n",
    "    print((ya1-ya2)[:10])\n",
    "    print((np.array(f1)-np.array(f2))[:10])\n",
    "    for x1,x2,y1,y2 in zip(X11, X12, ya1, ya2):\n",
    "        ax0.plot([x1, x2], [y1, y2], \":o\")"
   ]
  },
  {
   "cell_type": "code",
   "execution_count": null,
   "metadata": {},
   "outputs": [],
   "source": []
  }
 ],
 "metadata": {
  "@webio": {
   "lastCommId": "14659d3e08a54d778f222036f3771b64",
   "lastKernelId": "f8c028fa-e214-43a5-92d3-1d9b8e618861"
  },
  "kernelspec": {
   "display_name": "Python 3",
   "language": "python",
   "name": "python3"
  },
  "language_info": {
   "codemirror_mode": {
    "name": "ipython",
    "version": 3
   },
   "file_extension": ".py",
   "mimetype": "text/x-python",
   "name": "python",
   "nbconvert_exporter": "python",
   "pygments_lexer": "ipython3",
   "version": "3.7.4"
  }
 },
 "nbformat": 4,
 "nbformat_minor": 2
}
