{
 "cells": [
  {
   "cell_type": "code",
   "execution_count": 1,
   "id": "d7b39ed3-e6cd-47c6-afc4-48ba02c179a0",
   "metadata": {},
   "outputs": [],
   "source": [
    "%load_ext autoreload\n",
    "%autoreload 2\n",
    "\n",
    "import os, time\n",
    "import numpy as np\n",
    "import trace_util\n",
    "import matplotlib.pyplot as plt\n",
    "import xgboost as xgb\n",
    "import veritas # pip install dtai-veritas"
   ]
  },
  {
   "cell_type": "code",
   "execution_count": 2,
   "id": "3f8c384f-193c-4726-9b9e-ac67bdceda29",
   "metadata": {},
   "outputs": [],
   "source": [
    "plt.rcParams.update({'font.size': 12})"
   ]
  },
  {
   "cell_type": "code",
   "execution_count": 3,
   "id": "b37c1159-2a6c-4653-b9a5-c04308b3a27a",
   "metadata": {},
   "outputs": [],
   "source": [
    "def mae(a, b):\n",
    "    return np.mean(np.abs(a-b))"
   ]
  },
  {
   "cell_type": "code",
   "execution_count": 4,
   "id": "7df3998b-4b1c-4fd6-b078-357fb962aa5b",
   "metadata": {},
   "outputs": [],
   "source": [
    "xtrain, ytrain_mc = trace_util.load_trace_file(\"Trace_TRAIN.txt\")\n",
    "xtest, ytest_mc = trace_util.load_trace_file(\"Trace_TEST.txt\")"
   ]
  },
  {
   "cell_type": "code",
   "execution_count": 5,
   "id": "5513f3e1-b137-483e-a299-0e0b4b289f44",
   "metadata": {},
   "outputs": [
    {
     "data": {
      "text/plain": [
       "[<matplotlib.lines.Line2D at 0x7f1a46f19840>]"
      ]
     },
     "execution_count": 5,
     "metadata": {},
     "output_type": "execute_result"
    },
    {
     "data": {
      "image/png": "[encoded data removed]",
      "text/plain": [
       "<Figure size 720x144 with 4 Axes>"
      ]
     },
     "metadata": {
      "needs_background": "light"
     },
     "output_type": "display_data"
    }
   ],
   "source": [
    "fig, axs = plt.subplots(1, 4, figsize=(10, 2))\n",
    "\n",
    "axs[0].plot(xtrain[np.argmax(ytrain_mc==0),:])\n",
    "axs[1].plot(xtrain[np.argmax(ytrain_mc==1),:])\n",
    "axs[2].plot(xtrain[np.argmax(ytrain_mc==2),:])\n",
    "axs[3].plot(xtrain[np.argmax(ytrain_mc==3),:])"
   ]
  },
  {
   "cell_type": "code",
   "execution_count": 6,
   "id": "131c219e-204e-45fe-8fb5-e9cfe43214d8",
   "metadata": {},
   "outputs": [],
   "source": [
    "# binary classification for simplicity\n",
    "ytrain, ytest = ytrain_mc==1, ytest_mc==1"
   ]
  },
  {
   "cell_type": "code",
   "execution_count": 7,
   "id": "9c593a4a-78ad-418a-9ce0-92e456753458",
   "metadata": {},
   "outputs": [
    {
     "name": "stdout",
     "output_type": "stream",
     "text": [
      "[0]\ttrain-error:0.04000\ttest-error:0.02000\n",
      "[1]\ttrain-error:0.04000\ttest-error:0.02000\n",
      "[2]\ttrain-error:0.05000\ttest-error:0.09000\n",
      "[3]\ttrain-error:0.01000\ttest-error:0.04000\n",
      "[4]\ttrain-error:0.01000\ttest-error:0.03000\n",
      "[5]\ttrain-error:0.01000\ttest-error:0.02000\n",
      "[6]\ttrain-error:0.00000\ttest-error:0.04000\n",
      "[7]\ttrain-error:0.00000\ttest-error:0.02000\n",
      "[8]\ttrain-error:0.00000\ttest-error:0.03000\n",
      "[9]\ttrain-error:0.00000\ttest-error:0.04000\n",
      "[10]\ttrain-error:0.00000\ttest-error:0.03000\n",
      "[11]\ttrain-error:0.00000\ttest-error:0.02000\n",
      "[12]\ttrain-error:0.00000\ttest-error:0.03000\n",
      "[13]\ttrain-error:0.00000\ttest-error:0.02000\n",
      "[14]\ttrain-error:0.00000\ttest-error:0.02000\n",
      "[15]\ttrain-error:0.00000\ttest-error:0.02000\n",
      "[16]\ttrain-error:0.00000\ttest-error:0.02000\n",
      "[17]\ttrain-error:0.00000\ttest-error:0.02000\n",
      "[18]\ttrain-error:0.00000\ttest-error:0.02000\n",
      "[19]\ttrain-error:0.00000\ttest-error:0.02000\n",
      "[20]\ttrain-error:0.00000\ttest-error:0.02000\n",
      "[21]\ttrain-error:0.00000\ttest-error:0.02000\n",
      "[22]\ttrain-error:0.00000\ttest-error:0.02000\n",
      "[23]\ttrain-error:0.00000\ttest-error:0.02000\n",
      "[24]\ttrain-error:0.00000\ttest-error:0.02000\n"
     ]
    }
   ],
   "source": [
    "params = {\n",
    "    #\"num_class\": 4,\n",
    "    #\"objective\": \"multi:softmax\",\n",
    "    #\"eval_metric\": \"merror\",\n",
    "    \n",
    "    \"objective\": \"binary:logistic\",\n",
    "    \"eval_metric\": \"error\",\n",
    "    \n",
    "    \"tree_method\": \"hist\",\n",
    "    \"seed\": 135,\n",
    "    \"max_depth\": 3,\n",
    "    \"learning_rate\": 0.2,\n",
    "    \"colsample_bynode\": 0.2,\n",
    "    \"subsample\": 0.2\n",
    "}\n",
    "num_trees = 25\n",
    "\n",
    "dtrain = xgb.DMatrix(xtrain, ytrain)\n",
    "dtest = xgb.DMatrix(xtest, ytest)\n",
    "model = xgb.train(params, dtrain, num_boost_round=num_trees,\n",
    "                  evals=[(dtrain, \"train\"), (dtest, \"test\")])"
   ]
  },
  {
   "cell_type": "code",
   "execution_count": 8,
   "id": "7ee413ce-44cb-4746-ac97-49fd467cc2cb",
   "metadata": {},
   "outputs": [],
   "source": [
    "feat2id = lambda s: int(s[1:]) # xgboost names features f<n>, drop the `f`\n",
    "# ats = veritas.addtrees_from_multiclass_xgb_model(model, nclasses=4, feat2id=feat2id) # multiclass case\n",
    "\n",
    "at = veritas.addtree_from_xgb_model(model, feat2id)"
   ]
  },
  {
   "cell_type": "code",
   "execution_count": 9,
   "id": "c3dd1ca3-14c3-4d57-9507-743646337be5",
   "metadata": {},
   "outputs": [
    {
     "name": "stdout",
     "output_type": "stream",
     "text": [
      "Node(id=0, split=[F11 < 0.683853], sz=3, left=1, right=2)\n",
      "├─ Leaf(id=1, sz=1, value=-0.315789)\n",
      "└─ Leaf(id=2, sz=1, value=0.2)\n",
      "\n"
     ]
    }
   ],
   "source": [
    "print(at[0])"
   ]
  },
  {
   "cell_type": "code",
   "execution_count": 10,
   "id": "ac9192c2-d5d2-457f-a3cf-529cfe868a29",
   "metadata": {},
   "outputs": [
    {
     "name": "stdout",
     "output_type": "stream",
     "text": [
      "OK, model outputs are the same\n"
     ]
    }
   ],
   "source": [
    "# Check whether output of xgboost and corresponding AddTree match\n",
    "err = mae(at.eval(xtest), model.predict(dtest, output_margin=True))\n",
    "if err < 1e-5:\n",
    "    print(\"OK, model outputs are the same\")\n",
    "else:\n",
    "    print(\"WARNING, model outputs not the same\")"
   ]
  },
  {
   "cell_type": "code",
   "execution_count": 11,
   "id": "d9269844-4511-47db-b97d-82bfa3288c04",
   "metadata": {},
   "outputs": [
    {
     "name": "stdout",
     "output_type": "stream",
     "text": [
      "StopReason.OPTIMAL\n",
      "found an adversarial example for `base_example` with raw output 1.514 in 0.3ms\n",
      " - F0   Dom(0.663867,0.879187) base value= 0.5792, in? 0\n",
      " - F3   Dom(0.660472,0.817004) base value= 0.5170, in? 0\n",
      " - F5   Dom(0.653347,0.853678) base value= 0.5537, in? 0\n",
      " - F7   Dom(0.667979,0.896451) base value= 0.5965, in? 0\n",
      " - F11  Dom(0.683853,0.896292) base value= 0.5963, in? 0\n",
      " - F16  Dom(0.658673,0.881052) base value= 0.5811, in? 0\n",
      " - F18  Dom(0.692481,0.92423)  base value= 0.6242, in? 0\n",
      " - F21  Dom(0.62866,0.880954)  base value= 0.5810, in? 0\n",
      " - F27  Dom(0.641658,0.851177) base value= 0.5512, in? 0\n",
      " - F33  Dom(0.662177,0.89041)  base value= 0.5904, in? 0\n",
      " - F47  Dom(1.93852,2.53852)   base value= 2.2385, in? 1\n",
      " - F239 Dom(0.61076,0.877541)  base value= 0.5775, in? 0\n"
     ]
    }
   ],
   "source": [
    "# FROM CLASS 0 -> CLASS 1\n",
    "\n",
    "s = veritas.Search.max_output(at)\n",
    "base_example = xtest[ytest_mc==0, :][16,:]\n",
    "eps = 0.3\n",
    "s.prune([veritas.Domain(x-eps, x+eps) for x in base_example])\n",
    "s.stop_when_upper_less_than = 0.0\n",
    "\n",
    "tstart = time.time()\n",
    "while s.num_solutions() == 0:\n",
    "    pass\n",
    "    print(s.steps(100))\n",
    "tstop = time.time()\n",
    "    \n",
    "sol = s.get_solution(0) # best solution is at index 0\n",
    "adv_example = veritas.get_closest_example(sol, base_example)\n",
    "\n",
    "print(f\"found an adversarial example for `base_example` with raw output {sol.output:.3f} in {(tstop-tstart)*1000:.1f}ms\")\n",
    "for feat_id, dom in sol.box().items():\n",
    "    x = base_example[feat_id]\n",
    "    print(\" - F{:<3d} {:<22s} base value={:7.4f}, in? {:d}\".format(feat_id, repr(dom), x, dom.contains(x)))"
   ]
  },
  {
   "cell_type": "code",
   "execution_count": 12,
   "id": "e73d7982-2744-4d18-80f0-e21378f2caaf",
   "metadata": {},
   "outputs": [
    {
     "name": "stdout",
     "output_type": "stream",
     "text": [
      "           base       adv\n",
      "xgb proba [0.06138714 0.8196565 ]\n",
      " at proba [0.06138714 0.8196565 ]\n",
      " at raw   [-2.727203   1.5140221]\n"
     ]
    },
    {
     "data": {
      "image/png": "[encoded data removed]",
      "text/plain": [
       "<Figure size 1008x288 with 3 Axes>"
      ]
     },
     "metadata": {
      "needs_background": "light"
     },
     "output_type": "display_data"
    }
   ],
   "source": [
    "fig, axs = plt.subplots(1, 3, figsize=(14, 4))\n",
    "axs[0].plot(base_example)\n",
    "axs[1].plot(adv_example)\n",
    "axs[0].plot(np.nonzero(adv_example!=base_example)[0], base_example[adv_example!=base_example], \".\", ms=4)\n",
    "axs[1].plot(np.nonzero(adv_example!=base_example)[0], adv_example[adv_example!=base_example], \".\", ms=4)\n",
    "axs[2].plot(adv_example-base_example, color=\"red\")\n",
    "\n",
    "# Just to be sure, evaluate two example in the original xgboost model\n",
    "base_and_adv = np.vstack((base_example, adv_example))\n",
    "ypred = model.predict(xgb.DMatrix(base_and_adv))\n",
    "print(\"           base       adv\")\n",
    "print(\"xgb proba\", ypred)\n",
    "print(\" at proba\", at.predict_proba(base_and_adv))\n",
    "print(\" at raw  \", at.eval(base_and_adv))\n",
    "\n",
    "axs[0].set_title(f\"original example\\np(y=1)={ypred[0]:.3f}\")\n",
    "axs[1].set_title(f\"adversarial example\\np(y=1)={ypred[1]:.3f}\")\n",
    "axs[2].set_title(\"difference\\nadv. example - orig. example\")\n",
    "\n",
    "for ax in axs:\n",
    "    ax.set_xlabel(\"time\")\n",
    "\n",
    "plt.show()"
   ]
  }
 ],
 "metadata": {
  "kernelspec": {
   "display_name": "Python 3",
   "language": "python",
   "name": "python3"
  },
  "language_info": {
   "codemirror_mode": {
    "name": "ipython",
    "version": 3
   },
   "file_extension": ".py",
   "mimetype": "text/x-python",
   "name": "python",
   "nbconvert_exporter": "python",
   "pygments_lexer": "ipython3",
   "version": "3.10.4"
  }
 },
 "nbformat": 4,
 "nbformat_minor": 5
}
