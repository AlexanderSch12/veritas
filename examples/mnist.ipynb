{
 "cells": [
  {
   "cell_type": "code",
   "execution_count": 1,
   "metadata": {},
   "outputs": [],
   "source": [
    "import xgboost as xgb\n",
    "import numpy as np\n",
    "import matplotlib.pyplot as plt\n",
    "from sklearn.datasets import fetch_openml\n",
    "from sklearn.metrics import accuracy_score, mean_absolute_error\n",
    "from scipy.special import softmax, logit\n",
    "\n",
    "from treeck import DomTree\n",
    "from treeck.xgb import addtree_from_xgb_model\n",
    "from treeck.verifier import Verifier, VerifierNotExpr\n",
    "from treeck.distributed import DistributedVerifier, VerifierFactory\n",
    "from treeck.z3backend import Z3Backend as Backend\n",
    "\n",
    "from dask.distributed import Client\n",
    "\n",
    "import z3"
   ]
  },
  {
   "cell_type": "markdown",
   "metadata": {},
   "source": [
    "# Load the MNIST dataset"
   ]
  },
  {
   "cell_type": "code",
   "execution_count": 2,
   "metadata": {},
   "outputs": [],
   "source": [
    "mnist = fetch_openml(data_id=554)"
   ]
  },
  {
   "cell_type": "code",
   "execution_count": 3,
   "metadata": {},
   "outputs": [],
   "source": [
    "X = mnist.data.astype(float)\n",
    "y = mnist.target.astype(float)\n",
    "\n",
    "num_examples = X.shape[0]\n",
    "num_features = X.shape[1]\n",
    "\n",
    "np.random.seed(111)\n",
    "indices = np.random.permutation(num_examples)\n",
    "\n",
    "m = int(num_examples*0.9)\n",
    "Itrain = indices[0:m]\n",
    "Itest = indices[m:]"
   ]
  },
  {
   "cell_type": "markdown",
   "metadata": {},
   "source": [
    "# Train an XGBoost model"
   ]
  },
  {
   "cell_type": "code",
   "execution_count": null,
   "metadata": {},
   "outputs": [],
   "source": [
    "dtrain = xgb.DMatrix(X[Itrain], y[Itrain], missing=None)\n",
    "dtest = xgb.DMatrix(X[Itest], y[Itest], missing=None)\n",
    "\n",
    "params = {\n",
    "    \"objective\": \"multi:softmax\",\n",
    "    \"num_class\": 10,\n",
    "    \"tree_method\": \"hist\",\n",
    "    \"max_depth\": 6,\n",
    "    \"learning_rate\": 0.4,\n",
    "    \"eval_metric\": \"merror\",\n",
    "    \"seed\": 10,\n",
    "}\n",
    "\n",
    "model = xgb.train(params, dtrain, num_boost_round=200,\n",
    "                  early_stopping_rounds=5,\n",
    "                  evals=[(dtrain, \"train\"), (dtest, \"test\")])"
   ]
  },
  {
   "cell_type": "code",
   "execution_count": 5,
   "metadata": {},
   "outputs": [
    {
     "name": "stdout",
     "output_type": "stream",
     "text": [
      "accuracy: train 100.0%, test 97.2%\n"
     ]
    }
   ],
   "source": [
    "pred_train = model.predict(dtrain)\n",
    "pred_test  = model.predict(dtest)\n",
    "\n",
    "acc_train = accuracy_score(y[Itrain], pred_train)\n",
    "acc_test  = accuracy_score(y[Itest], pred_test)\n",
    "\n",
    "print(f\"accuracy: train {acc_train*100.0:.1f}%, test {acc_test*100.0:.1f}%\")"
   ]
  },
  {
   "cell_type": "markdown",
   "metadata": {},
   "source": [
    "# Convert XGBoost trees into treeck's format\n",
    "\n",
    "XGBoost builds 10 one-versus-all classifiers, one for each digit. It is important to check whether the outputs of the two models correspond. Small errors are due to floating point rounding. If the errors are larger, then most often it is due to an incorrect *base_score* (`at.base_score`)."
   ]
  },
  {
   "cell_type": "code",
   "execution_count": null,
   "metadata": {},
   "outputs": [],
   "source": [
    "def get_addtree(model, digit, N=1000):\n",
    "    at = addtree_from_xgb_model(model, multiclass=(digit, 10))\n",
    "    pred_m = model.predict(xgb.DMatrix(X[Itest[:N]]), output_margin=True)[:, digit]\n",
    "    pred_a = at.predict(X[Itest[:N]])\n",
    "    mae = mean_absolute_error(pred_m, pred_a)\n",
    "    print(f\"mae model difference {mae:.3g} for digit {digit}\")\n",
    "    return at                                                                                               \n",
    "                                                                                                              \n",
    "ats = [get_addtree(model, i, N=100) for i in range(10)]"
   ]
  },
  {
   "cell_type": "markdown",
   "metadata": {},
   "source": [
    "# Choose an instance to work with"
   ]
  },
  {
   "cell_type": "code",
   "execution_count": 7,
   "metadata": {},
   "outputs": [],
   "source": [
    "def select_instance():\n",
    "    index = np.random.randint(0, len(y))\n",
    "    instance = X[index, :]\n",
    "    label = y[index]\n",
    "    return index, instance, int(label)"
   ]
  },
  {
   "cell_type": "code",
   "execution_count": 10,
   "metadata": {},
   "outputs": [
    {
     "name": "stdout",
     "output_type": "stream",
     "text": [
      "perturb instance classified as 7 such that it is classified as 9\n",
      "raw predicted values (before softmax): 7.50, -0.03\n"
     ]
    },
    {
     "data": {
      "image/png": "[encoded data removed]",
      "text/plain": [
       "<Figure size 720x144 with 3 Axes>"
      ]
     },
     "metadata": {
      "needs_background": "light"
     },
     "output_type": "display_data"
    }
   ],
   "source": [
    "i, instance, source_label = select_instance()\n",
    "target_labels = list(range(0, source_label)) + list(range(source_label+1, 10))\n",
    "target_label = np.random.choice(target_labels)\n",
    "\n",
    "source_pred = ats[source_label].predict_single(instance)\n",
    "target_pred = ats[target_label].predict_single(instance)\n",
    "xgb_pred = model.predict(xgb.DMatrix([instance]), output_margin=True)[0]\n",
    "\n",
    "print(f\"perturb instance classified as {source_label} such that it is classified as {target_label}\")\n",
    "print(f\"raw predicted values (before softmax): {source_pred:.2f}, {target_pred:.2f}\")\n",
    "\n",
    "fig, (ax, ax1, ax2) = plt.subplots(1, 3, figsize=(10,2), gridspec_kw={'width_ratios': [1.2, 2, 2], 'wspace': 0.3})\n",
    "ax.imshow(instance.reshape((28, 28)), cmap=\"binary\")\n",
    "ax.set_yticks([]); ax.set_xticks([])\n",
    "ax.set_title(f\"{source_label} => {target_label}\")\n",
    "ax1.bar(range(10), xgb_pred)\n",
    "ax1.set_title(\"xgb raw\")\n",
    "ax2.bar(range(10), softmax(xgb_pred))\n",
    "ax2.set_title(f\"xgb softmax {max(softmax(xgb_pred))*100.0:.3f}%\")\n",
    "plt.show()"
   ]
  },
  {
   "cell_type": "markdown",
   "metadata": {},
   "source": [
    "# Start a cluster\n",
    "\n",
    "Execute these two commands in two terminal windows:\n",
    "\n",
    "- `dask-scheduler --host localhost --port 8786`\n",
    "- `dask-worker --nthreads 1 --nprocs 3 localhost:8786`"
   ]
  },
  {
   "cell_type": "code",
   "execution_count": 11,
   "metadata": {},
   "outputs": [],
   "source": [
    "cluster_address = \"localhost:8786\""
   ]
  },
  {
   "cell_type": "markdown",
   "metadata": {},
   "source": [
    "# Question 1: Can we slightly perturb an instance from the dataset such that its predicted label changes?\n",
    "\n",
    "We first create a `VerifierFactory` instance. This is a recipe for our question. In this factory, we constrain each pixel of the *potential instance* to lie in the interval $[x-\\delta, x+\\delta]$, where $x$ is the pixel value. We also define a *global budget* $\\Delta$, i.e., the sum of all absolute changes (L1) must not be greater than $\\Delta$. "
   ]
  },
  {
   "cell_type": "code",
   "execution_count": 12,
   "metadata": {},
   "outputs": [],
   "source": [
    "class VFactory1(VerifierFactory):\n",
    "    def __init__(self, source_instance, offset, maxnorm, model_output):\n",
    "        self.instance = source_instance\n",
    "        self.offset = offset\n",
    "        self.maxnorm = maxnorm\n",
    "        self.F = model_output\n",
    "\n",
    "    def __call__(self, lk, check_paths):\n",
    "        v = Verifier(lk, Backend())\n",
    "        offs = self.offset\n",
    "        ctx = v._backend._ctx\n",
    "\n",
    "        fids_a = set(v.instance(0).feat_ids())\n",
    "        norm = 0.0\n",
    "\n",
    "        for i in fids_a:\n",
    "            x = v.instance(0).xvar(i)\n",
    "            pixel = self.instance[i]\n",
    "            v.add_constraint((x > max(0, pixel-offs)) & (x < min(255, pixel+offs)))\n",
    "            norm += z3.If(x.get()-pixel <= 0, pixel-x.get(), x.get()-pixel)\n",
    "\n",
    "        v.add_constraint(v.instance(0).fvar() < self.F)\n",
    "\n",
    "        if not check_paths:\n",
    "            v.add_constraint(norm < self.maxnorm)\n",
    "\n",
    "        return v"
   ]
  },
  {
   "cell_type": "markdown",
   "metadata": {},
   "source": [
    "We can now *execute* the question. We assume a running Dask scheduler at `localhost:8384`."
   ]
  },
  {
   "cell_type": "code",
   "execution_count": 13,
   "metadata": {},
   "outputs": [
    {
     "name": "stdout",
     "output_type": "stream",
     "text": [
      "[0h00m00s    0 0   ] checking paths\n",
      "[0h00m06s    0 0   ] check_paths(0): [0] -> [530]\n",
      "[0h00m06s    0 0   ] num_leafs [2016]\n",
      "[0h00m07s    0 0   ] SPLIT l0: (0, LtSplit(155, 1)) into 1, 2, score 89 \n",
      "[0h00m08s    1 1   ] SAT for l1 in 0.55s (timeout=60.0s, #leafs=[639])\n",
      "[0h00m10s    2 0   ] SAT for l2 in 2.03s (timeout=60.0s, #leafs=[598])\n"
     ]
    }
   ],
   "source": [
    "with Client(cluster_address) as client:\n",
    "    client.restart()\n",
    "    addtree = ats[source_label] # pick the relevant 1-vs-all classifier\n",
    "    domain_constraints = {}     # we don't provide any additional domain constraints\n",
    "    dt = DomTree(addtree, domain_constraints) # this structure will manage the divide&conquer domain splits\n",
    "\n",
    "    factory = VFactory1(instance, 75, 3000, logit(0.05))\n",
    "    dv1 = DistributedVerifier(client, dt, factory,\n",
    "        check_paths = True,      # enable pruning\n",
    "        num_initial_tasks = 2,   # we prune and then immediately split into 2 subtasks before solving\n",
    "        stop_when_num_sats = 2,  # don't stop early\n",
    "        timeout_start = 60,      # first timeout is 60 seconds\n",
    "        timeout_grow_rate = 1.5, # second timeout is 90, 135, ...\n",
    "        global_timeout = 3600    # stop after an hour\n",
    "    )\n",
    "    dv1.check()"
   ]
  },
  {
   "cell_type": "code",
   "execution_count": 14,
   "metadata": {
    "scrolled": false
   },
   "outputs": [
    {
     "data": {
      "image/png": "[encoded data removed]",
      "text/plain": [
       "<Figure size 1080x136.8 with 6 Axes>"
      ]
     },
     "metadata": {
      "needs_background": "light"
     },
     "output_type": "display_data"
    },
    {
     "data": {
      "image/png": "[encoded data removed]",
      "text/plain": [
       "<Figure size 1080x136.8 with 6 Axes>"
      ]
     },
     "metadata": {
      "needs_background": "light"
     },
     "output_type": "display_data"
    }
   ],
   "source": [
    "results = [v for k, v in dv1.results.items()\n",
    "           if isinstance(v, dict)\n",
    "           and \"status\" in v\n",
    "           and v[\"status\"] == Verifier.Result.SAT]\n",
    "\n",
    "for r in results:\n",
    "    inst = instance.copy()\n",
    "    for i, x in r[\"model\"][\"xs\"].items():\n",
    "        inst[i] = x\n",
    "    \n",
    "    xgb_pred_after = model.predict(xgb.DMatrix([inst]), output_margin=True)[0]\n",
    "    \n",
    "    fig, (ax1, ax2, ax3, ax4, ax5) = plt.subplots(1, 5, figsize=(15, 1.9), gridspec_kw={'width_ratios': [1.3, 1.3, 1.9, 2, 2], 'wspace': 0.3})\n",
    "    ax1.imshow(instance.reshape((28,28)), cmap=\"binary\")\n",
    "    ax1.set_title(\"original\")\n",
    "    ax2.imshow(inst.reshape((28,28)), cmap=\"binary\")\n",
    "    ax2.set_title(\"permuted\")\n",
    "    im = ax3.imshow((inst-instance).reshape((28, 28)), cmap=\"coolwarm\", vmin=-75, vmax=75)\n",
    "    ax3.set_title(\"difference\")\n",
    "    ax4.bar(range(10), xgb_pred)\n",
    "    ax4.set_title(\"xgb raw original\")\n",
    "    ax4.set_xticks(range(10))\n",
    "    ax5.bar(range(10), xgb_pred_after)\n",
    "    ax5.set_title(\"xgb raw permuted\")\n",
    "    ax5.set_xticks(range(10))\n",
    "    fig.colorbar(im, ax=ax3)\n",
    "    plt.show()"
   ]
  },
  {
   "cell_type": "markdown",
   "metadata": {},
   "source": [
    "# Question 2: Given an instance from the dataset with label $l_1$, can we perturb it such that the model predicts some other label $l_2$?"
   ]
  },
  {
   "cell_type": "code",
   "execution_count": 15,
   "metadata": {},
   "outputs": [],
   "source": [
    "class VFactory2(VerifierFactory):\n",
    "    def __init__(self, source_instance, offset, maxnorm, output_value):\n",
    "        self.instance = source_instance\n",
    "        self.offset = offset    # \\delta\n",
    "        self.maxnorm = maxnorm  # \\Delta\n",
    "        self.F = output_value\n",
    "\n",
    "    def __call__(self, lk, check_paths):\n",
    "        v = Verifier(lk, Backend())\n",
    "        offs = self.offset\n",
    "        ctx = v._backend._ctx\n",
    "\n",
    "        fids_a = set(v.instance(0).feat_ids())\n",
    "        fids_b = set(v.instance(1).feat_ids())\n",
    "        norm = 0.0\n",
    "        \n",
    "        for i in fids_a.intersection(fids_b):\n",
    "            v.add_constraint(v.instance(0).xvar(i) == v.instance(1).xvar(i))\n",
    "\n",
    "        for i in fids_a:\n",
    "            x = v.instance(0).xvar(i)\n",
    "            pixel = self.instance[i]\n",
    "            v.add_constraint((x > max(0, pixel-offs)) & (x < min(255, pixel+offs)))\n",
    "            norm += z3.If(x.get()-pixel <= 0, pixel-x.get(), x.get()-pixel)\n",
    "\n",
    "        for i in fids_b.difference(fids_a):\n",
    "            x = v.instance(1).xvar(i)\n",
    "            pixel = self.instance[i]\n",
    "            v.add_constraint((x > max(0, pixel-offs)) & (x < min(255, pixel+offs)))\n",
    "            norm += z3.If(x.get()-pixel <= 0, pixel-x.get(), x.get()-pixel)\n",
    "         \n",
    "        v.add_constraint(v.instance(0).fvar() < self.F)\n",
    "        v.add_constraint(v.instance(1).fvar() > -self.F)\n",
    "\n",
    "        if not check_paths:\n",
    "            v.add_constraint(norm < self.maxnorm)\n",
    "\n",
    "        return v"
   ]
  },
  {
   "cell_type": "code",
   "execution_count": 16,
   "metadata": {},
   "outputs": [
    {
     "name": "stdout",
     "output_type": "stream",
     "text": [
      "[0h00m00s    0 0   ] checking paths\n",
      "[0h00m17s    0 0   ] check_paths(0): [0, 0] -> [530, 506]\n",
      "[0h00m17s    0 0   ] num_leafs [2016, 2141]\n",
      "[0h00m18s    0 0   ] SPLIT l0: (1, LtSplit(128, 8)) into 1, 2, score 95 \n",
      "[0h00m37s    1 1   ] SAT for l1 in 15.31s (timeout=60.0s, #leafs=[663, 533])\n",
      "[0h00m52s    2 0   ] SAT for l2 in 30.09s (timeout=60.0s, #leafs=[633, 476])\n"
     ]
    }
   ],
   "source": [
    "with Client(cluster_address) as client:\n",
    "    client.restart()\n",
    "    addtree_source = ats[source_label] # pick the 1-vs-all classifier for original label\n",
    "    addtree_target = ats[target_label] # pick the 1-vs-all classifier for target label\n",
    "    \n",
    "    # we now consider two instances of two different 1-vs-all models at once\n",
    "    dt = DomTree([(addtree_source, {}), (addtree_target, {})])\n",
    "\n",
    "    factory = VFactory2(instance, 75, 3000, logit(0.05))\n",
    "    dv2 = DistributedVerifier(client, dt, factory,\n",
    "        check_paths = True,      # enable pruning\n",
    "        num_initial_tasks = 2,   # we prune and then immediately split into 2 subtasks before solving\n",
    "        stop_when_num_sats = 2,  # don't stop early\n",
    "        timeout_start = 60,      # first timeout is 60 seconds\n",
    "        timeout_grow_rate = 1.5, # second timeout is 90, 135, ...\n",
    "        global_timeout = 3600    # stop after an hour\n",
    "    )\n",
    "    dv2.check()"
   ]
  },
  {
   "cell_type": "code",
   "execution_count": 17,
   "metadata": {},
   "outputs": [
    {
     "name": "stdout",
     "output_type": "stream",
     "text": [
      "7 => 9\n"
     ]
    },
    {
     "data": {
      "image/png": "[encoded data removed]",
      "text/plain": [
       "<Figure size 1080x136.8 with 6 Axes>"
      ]
     },
     "metadata": {
      "needs_background": "light"
     },
     "output_type": "display_data"
    },
    {
     "data": {
      "image/png": "[encoded data removed]",
      "text/plain": [
       "<Figure size 1080x136.8 with 6 Axes>"
      ]
     },
     "metadata": {
      "needs_background": "light"
     },
     "output_type": "display_data"
    }
   ],
   "source": [
    "results = [v for k, v in dv2.results.items()\n",
    "           if isinstance(v, dict)\n",
    "           and \"status\" in v\n",
    "           and v[\"status\"] == Verifier.Result.SAT]\n",
    "\n",
    "print(source_label, \"=>\", target_label)\n",
    "\n",
    "for r in results:\n",
    "    inst = instance.copy()\n",
    "    \n",
    "    for i, x in r[\"model\"][0][\"xs\"].items():\n",
    "        inst[i] = x\n",
    "    for i, x in r[\"model\"][1][\"xs\"].items():\n",
    "        inst[i] = x\n",
    "    \n",
    "    xgb_pred_after = model.predict(xgb.DMatrix([inst]), output_margin=True)[0]\n",
    "    \n",
    "    fig, (ax1, ax2, ax3, ax4, ax5) = plt.subplots(1, 5, figsize=(15, 1.9), gridspec_kw={'width_ratios': [1.3, 1.3, 1.9, 2, 2], 'wspace': 0.3})\n",
    "    ax1.imshow(instance.reshape((28,28)), cmap=\"binary\")\n",
    "    ax1.set_title(\"original\")\n",
    "    ax2.imshow(inst.reshape((28,28)), cmap=\"binary\")\n",
    "    ax2.set_title(\"permuted\")\n",
    "    im = ax3.imshow((inst-instance).reshape((28, 28)), cmap=\"coolwarm\", vmin=-75, vmax=75)\n",
    "    ax3.set_title(\"difference\")\n",
    "    ax4.bar(range(10), xgb_pred)\n",
    "    ax4.set_title(\"xgb raw original\")\n",
    "    ax4.set_xticks(range(10))\n",
    "    ax5.bar(range(10), xgb_pred_after)\n",
    "    ax5.set_title(\"xgb raw permuted\")\n",
    "    ax5.set_xticks(range(10))\n",
    "    fig.colorbar(im, ax=ax3)\n",
    "    plt.show()"
   ]
  },
  {
   "cell_type": "code",
   "execution_count": null,
   "metadata": {},
   "outputs": [],
   "source": []
  }
 ],
 "metadata": {
  "kernelspec": {
   "display_name": "Python 3",
   "language": "python",
   "name": "python3"
  },
  "language_info": {
   "codemirror_mode": {
    "name": "ipython",
    "version": 3
   },
   "file_extension": ".py",
   "mimetype": "text/x-python",
   "name": "python",
   "nbconvert_exporter": "python",
   "pygments_lexer": "ipython3",
   "version": "3.7.6"
  }
 },
 "nbformat": 4,
 "nbformat_minor": 4
}
