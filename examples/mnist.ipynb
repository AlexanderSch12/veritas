{
 "cells": [
  {
   "cell_type": "code",
   "execution_count": 1,
   "id": "b31320fc-3030-422c-bab8-2a2e52e05e0e",
   "metadata": {},
   "outputs": [],
   "source": [
    "%load_ext autoreload\n",
    "%autoreload 2\n",
    "\n",
    "import time\n",
    "from sklearn import datasets\n",
    "from sklearn.model_selection import train_test_split\n",
    "import numpy as np"
   ]
  },
  {
   "cell_type": "markdown",
   "id": "f045e3fb-30cf-45d5-85f3-e925479799a6",
   "metadata": {},
   "source": [
    "# Load MNIST from OpenML"
   ]
  },
  {
   "cell_type": "code",
   "execution_count": 2,
   "id": "e16c9219-649f-429d-8f5e-f1d5e7f06aee",
   "metadata": {},
   "outputs": [],
   "source": [
    "X, y_mc = datasets.fetch_openml(data_id=554, return_X_y=True, as_frame=False)"
   ]
  },
  {
   "cell_type": "code",
   "execution_count": 3,
   "id": "3774ac64-5166-4a81-9823-ccc32a674cbc",
   "metadata": {},
   "outputs": [],
   "source": [
    "y_mc = y_mc.astype(int)\n",
    "# make it a binary classification problem for the sake of simplicity\n",
    "y = y_mc >= 5\n",
    "xtrain, xtest, ytrain, ytest, ytrain_mc, ytest_mc = train_test_split(X, y, y_mc, test_size=0.2, shuffle=True)"
   ]
  },
  {
   "cell_type": "markdown",
   "id": "0a6192bd-375f-428d-b94f-37cd77a4b241",
   "metadata": {},
   "source": [
    "# Train an XGBoost model"
   ]
  },
  {
   "cell_type": "code",
   "execution_count": 4,
   "id": "b1561682-2628-4447-b62b-f24d88c0ac08",
   "metadata": {},
   "outputs": [],
   "source": [
    "import veritas\n",
    "import xgboost as xgb\n",
    "import tqdm\n",
    "import matplotlib.pyplot as plt\n",
    "from sklearn.metrics import accuracy_score"
   ]
  },
  {
   "cell_type": "code",
   "execution_count": 5,
   "id": "0686c394-8a18-4c7f-91a6-7a768732d955",
   "metadata": {},
   "outputs": [
    {
     "name": "stdout",
     "output_type": "stream",
     "text": [
      "XGB trained in 7.052911281585693 seconds\n"
     ]
    }
   ],
   "source": [
    "params = {\n",
    "    \"n_estimators\": 50,\n",
    "    #\"num_class\": 10,\n",
    "    #\"objective\": \"multi:softmax\",\n",
    "    #\"eval_metric\": \"merror\",\n",
    "    \"eval_metric\": \"error\",\n",
    "    \n",
    "    \"tree_method\": \"hist\",\n",
    "    \"seed\": 135,\n",
    "    \"max_depth\": 7,\n",
    "    \"learning_rate\": 0.2,\n",
    "    \"colsample_bynode\": 0.75,\n",
    "    \"subsample\": 0.5\n",
    "}\n",
    "model = xgb.XGBClassifier(**params)\n",
    "\n",
    "t = time.time()\n",
    "model.fit(X, y)\n",
    "print(f\"XGB trained in {time.time()-t} seconds\")"
   ]
  },
  {
   "cell_type": "code",
   "execution_count": 6,
   "id": "41e806a9-5015-40dd-9bf3-9ee5f56bd796",
   "metadata": {
    "tags": []
   },
   "outputs": [
    {
     "name": "stdout",
     "output_type": "stream",
     "text": [
      "Train acc: 0.984, test acc: 0.983 wrt true labels\n"
     ]
    }
   ],
   "source": [
    "ytrain_pred = model.predict(xtrain)\n",
    "ytest_pred = model.predict(xtest)\n",
    "acc_train = accuracy_score(ytrain, ytrain_pred)\n",
    "acc_test = accuracy_score(ytest, ytest_pred)\n",
    "\n",
    "print(f\"Train acc: {acc_train:.3f}, test acc: {acc_test:.3f} wrt true labels\")"
   ]
  },
  {
   "cell_type": "markdown",
   "id": "3271f1f8-695d-4b83-bab2-6760e3558bd5",
   "metadata": {},
   "source": [
    "# Generate adversarial examples"
   ]
  },
  {
   "cell_type": "code",
   "execution_count": 7,
   "id": "b7ce0ec8-69a9-4188-a697-212828123232",
   "metadata": {
    "tags": []
   },
   "outputs": [],
   "source": [
    "# FROM CLASS 0 -> CLASS 1\n",
    "number_of_adv_examples = 5\n",
    "\n",
    "rng = np.random.default_rng(seed=128)\n",
    "xtest0 = xtest[ytest==0, :]\n",
    "subset = xtest0[rng.choice(range(xtest0.shape[0]), number_of_adv_examples), :]\n",
    "\n",
    "eps = 10"
   ]
  },
  {
   "cell_type": "code",
   "execution_count": 8,
   "id": "84380740-f95d-4110-a679-c66e886dfdff",
   "metadata": {},
   "outputs": [],
   "source": [
    "feat2id = lambda s: int(s[1:])\n",
    "at = veritas.addtree_from_xgb_model(model, feat2id)"
   ]
  },
  {
   "cell_type": "code",
   "execution_count": 9,
   "id": "142b4cf5-131c-4fc7-b991-a6bb7efa219c",
   "metadata": {
    "tags": []
   },
   "outputs": [
    {
     "name": "stderr",
     "output_type": "stream",
     "text": [
      "100%|██████████| 5/5 [00:00<00:00, 60.71it/s]\n"
     ]
    }
   ],
   "source": [
    "adv_examples = []\n",
    "for i in tqdm.tqdm(range(subset.shape[0])):\n",
    "    base_example = subset[i, :]\n",
    "    \n",
    "    s = veritas.Search.max_output(at)\n",
    "    s.prune([veritas.Domain(max(0.0, x-eps), min(255, x+eps)) for x in base_example])\n",
    "    s.stop_when_upper_less_than = 0.0\n",
    "\n",
    "    tstart = time.time()\n",
    "    while s.num_solutions() == 0:\n",
    "        if s.steps(100) == veritas.StopReason.NO_MORE_OPEN:\n",
    "            break\n",
    "    tstop = time.time()\n",
    "\n",
    "    if s.num_solutions() > 0:\n",
    "        sol = s.get_solution(0)\n",
    "        adv_example = veritas.get_closest_example(sol, base_example)\n",
    "\n",
    "        res = {\"i\": i, \"adv_example\": adv_example, \"base_example\": base_example}\n",
    "\n",
    "        res[\"base_ypred_at\"] = at.predict_proba(np.atleast_2d(base_example))[0]\n",
    "        res[\"base_ypred\"] = model.predict_proba(np.atleast_2d(base_example))[0,1]\n",
    "        res[\"adv_ypred\"] = model.predict_proba(np.atleast_2d(adv_example))[0,1]\n",
    "        res[\"adv_ypred_at\"] = at.predict_proba(np.atleast_2d(adv_example))[0]\n",
    "\n",
    "        adv_examples.append(res)\n",
    "    else:\n",
    "        print(\"no adversarial examples found for\", i)"
   ]
  },
  {
   "cell_type": "code",
   "execution_count": 10,
   "id": "364a9553-7401-4150-b535-c439da90430d",
   "metadata": {
    "tags": []
   },
   "outputs": [
    {
     "data": {
      "image/png": "[encoded data removed]",
      "text/plain": [
       "<Figure size 432x288 with 3 Axes>"
      ]
     },
     "metadata": {
      "needs_background": "light"
     },
     "output_type": "display_data"
    },
    {
     "data": {
      "image/png": "[encoded data removed]",
      "text/plain": [
       "<Figure size 432x288 with 3 Axes>"
      ]
     },
     "metadata": {
      "needs_background": "light"
     },
     "output_type": "display_data"
    },
    {
     "data": {
      "image/png": "[encoded data removed]",
      "text/plain": [
       "<Figure size 432x288 with 3 Axes>"
      ]
     },
     "metadata": {
      "needs_background": "light"
     },
     "output_type": "display_data"
    },
    {
     "data": {
      "image/png": "[encoded data removed]",
      "text/plain": [
       "<Figure size 432x288 with 3 Axes>"
      ]
     },
     "metadata": {
      "needs_background": "light"
     },
     "output_type": "display_data"
    },
    {
     "data": {
      "image/png": "[encoded data removed]",
      "text/plain": [
       "<Figure size 432x288 with 3 Axes>"
      ]
     },
     "metadata": {
      "needs_background": "light"
     },
     "output_type": "display_data"
    }
   ],
   "source": [
    "for i, res in enumerate(adv_examples):\n",
    "    base_example = res[\"base_example\"]\n",
    "    adv_example = res[\"adv_example\"]\n",
    "    base_prob = res[\"base_ypred\"]\n",
    "    adv_prob = res[\"adv_ypred\"]\n",
    "    \n",
    "    fig, ax = plt.subplots(1, 3)\n",
    "    ax[0].imshow((base_example).reshape((28,28)), cmap=\"binary\")\n",
    "    ax[0].set_title(f\"p(y=1) = {base_prob*100:.1f}%\")\n",
    "    ax[1].imshow((adv_example).reshape((28,28)), cmap=\"binary\")\n",
    "    ax[1].set_title(f\"p(y=1) = {adv_prob*100:.1f}%\")\n",
    "    ax[2].imshow((adv_example-base_example).reshape((28,28)))\n",
    "    \n",
    "    plt.show()"
   ]
  },
  {
   "cell_type": "markdown",
   "id": "3f41242e-022d-46e3-9a0f-92a5e520c10b",
   "metadata": {},
   "source": [
    "# An alternative verification question:\n",
    "## Can an image that only has a narrow non-black band in the middle ever get the positive class?"
   ]
  },
  {
   "cell_type": "code",
   "execution_count": 11,
   "id": "cfb95593-2d09-42a9-861f-3374685f1384",
   "metadata": {},
   "outputs": [
    {
     "name": "stdout",
     "output_type": "stream",
     "text": [
      "Veritas generated an example in 3.26ms, stop_reason=StopReason.OPTIMAL\n"
     ]
    },
    {
     "data": {
      "image/png": "[encoded data removed]",
      "text/plain": [
       "<Figure size 432x288 with 2 Axes>"
      ]
     },
     "metadata": {
      "needs_background": "light"
     },
     "output_type": "display_data"
    }
   ],
   "source": [
    "blackband = np.zeros(28*28)\n",
    "blackband[0:28*12] = 255.0\n",
    "blackband[28*16:] = 255.0\n",
    "\n",
    "anything = veritas.Domain(0.0, 255.0)\n",
    "black = veritas.Domain.inclusive(255.0, 255.0)\n",
    "\n",
    "s = veritas.Search.max_output(at)\n",
    "s.prune([black if x>0 else anything for x in blackband])\n",
    "s.stop_when_upper_less_than = 0.0\n",
    "\n",
    "tstart = time.time()\n",
    "while s.num_solutions() == 0:\n",
    "    stop_reason = s.steps(100)\n",
    "    if stop_reason == veritas.StopReason.NO_MORE_OPEN:\n",
    "        break\n",
    "tstop = time.time()\n",
    "\n",
    "print(f\"Veritas generated an example in {1000*(tstop-tstart):.2f}ms, stop_reason={stop_reason}\")\n",
    "\n",
    "sol = s.get_solution(0)\n",
    "generated = veritas.get_closest_example(sol, blackband)\n",
    "\n",
    "prob_blackband = at.predict_proba(blackband)[0]\n",
    "prob_generated = at.predict_proba(generated)[0]\n",
    "\n",
    "fig, ax = plt.subplots(1, 2)\n",
    "ax[0].imshow(blackband.reshape((28, 28)), cmap=\"binary\")\n",
    "ax[0].set_title(f\"p(y=1) = {prob_blackband*100:.1f}%\")\n",
    "ax[1].imshow(generated.reshape((28, 28)), cmap=\"binary\")\n",
    "ax[1].set_title(f\"p(y=1) = {prob_generated*100:.1f}%\")\n",
    "plt.show()"
   ]
  },
  {
   "cell_type": "markdown",
   "id": "996ed1f2-9f66-4164-af63-c26d2d47cbef",
   "metadata": {},
   "source": [
    "# Can we find a positive example with non-white pixels only in the top 3 rows of pixels?"
   ]
  },
  {
   "cell_type": "code",
   "execution_count": 12,
   "id": "76be0d94-492d-447e-aa95-583ebc337775",
   "metadata": {},
   "outputs": [
    {
     "name": "stdout",
     "output_type": "stream",
     "text": [
      "Veritas generated an example in 1.73ms, stop_reason=StopReason.OPTIMAL\n"
     ]
    },
    {
     "data": {
      "image/png": "[encoded data removed]",
      "text/plain": [
       "<Figure size 432x288 with 2 Axes>"
      ]
     },
     "metadata": {
      "needs_background": "light"
     },
     "output_type": "display_data"
    },
    {
     "name": "stdout",
     "output_type": "stream",
     "text": [
      "We proved that no such example exist!\n"
     ]
    }
   ],
   "source": [
    "allwhite = np.zeros(28*28)\n",
    "whiteband = np.zeros(28*28)\n",
    "whiteband[0:28*3] = 255.0\n",
    "\n",
    "anything = veritas.Domain(0.0, 255.0)\n",
    "white = veritas.Domain.inclusive(0.0, 0.0)\n",
    "\n",
    "s = veritas.Search.max_output(at)\n",
    "s.prune([anything if x>0 else white for x in whiteband])\n",
    "#s.stop_when_upper_less_than = 0.0\n",
    "\n",
    "tstart = time.time()\n",
    "while s.num_solutions() == 0:\n",
    "    stop_reason = s.steps(100)\n",
    "    if stop_reason == veritas.StopReason.NO_MORE_OPEN:\n",
    "        break\n",
    "tstop = time.time()\n",
    "\n",
    "print(f\"Veritas generated an example in {1000*(tstop-tstart):.2f}ms, stop_reason={stop_reason}\")\n",
    "\n",
    "sol = s.get_solution(0)\n",
    "generated = veritas.get_closest_example(sol, allwhite)\n",
    "\n",
    "prob_whiteband = at.predict_proba(whiteband)[0]\n",
    "prob_generated = at.predict_proba(generated)[0]\n",
    "\n",
    "fig, ax = plt.subplots(1, 2)\n",
    "ax[0].imshow(whiteband.reshape((28, 28)), cmap=\"binary\")\n",
    "ax[0].set_title(f\"p(y=1) = {prob_whiteband*100:.1f}%\")\n",
    "ax[1].imshow(generated.reshape((28, 28)), cmap=\"binary\")\n",
    "ax[1].set_title(f\"p(y=1) = {prob_generated*100:.1f}%\")\n",
    "plt.show()\n",
    "\n",
    "if prob_generated < 0.5 and stop_reason == veritas.StopReason.OPTIMAL:\n",
    "    print(\"We proved that no such example exist!\")"
   ]
  },
  {
   "cell_type": "code",
   "execution_count": null,
   "id": "d2c59aa3-768e-44f2-8e42-f38abcc51081",
   "metadata": {},
   "outputs": [],
   "source": []
  }
 ],
 "metadata": {
  "kernelspec": {
   "display_name": "Python 3",
   "language": "python",
   "name": "python3"
  },
  "language_info": {
   "codemirror_mode": {
    "name": "ipython",
    "version": 3
   },
   "file_extension": ".py",
   "mimetype": "text/x-python",
   "name": "python",
   "nbconvert_exporter": "python",
   "pygments_lexer": "ipython3",
   "version": "3.10.7"
  }
 },
 "nbformat": 4,
 "nbformat_minor": 5
}
