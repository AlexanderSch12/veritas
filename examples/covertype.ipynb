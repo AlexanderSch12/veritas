{
 "cells": [
  {
   "cell_type": "code",
   "execution_count": 1,
   "id": "b31320fc-3030-422c-bab8-2a2e52e05e0e",
   "metadata": {},
   "outputs": [],
   "source": [
    "%load_ext autoreload\n",
    "%autoreload 2\n",
    "\n",
    "import time\n",
    "from sklearn import datasets\n",
    "from sklearn.model_selection import train_test_split\n",
    "import numpy as np"
   ]
  },
  {
   "cell_type": "markdown",
   "id": "f045e3fb-30cf-45d5-85f3-e925479799a6",
   "metadata": {},
   "source": [
    "# Load CoverType from OpenML"
   ]
  },
  {
   "cell_type": "code",
   "execution_count": 2,
   "id": "e16c9219-649f-429d-8f5e-f1d5e7f06aee",
   "metadata": {},
   "outputs": [],
   "source": [
    "X, y_mc = datasets.fetch_openml(data_id=180, return_X_y=True, as_frame=False)"
   ]
  },
  {
   "cell_type": "code",
   "execution_count": 3,
   "id": "3774ac64-5166-4a81-9823-ccc32a674cbc",
   "metadata": {},
   "outputs": [],
   "source": [
    "# make it a binary classification problem for the sake of simplicity\n",
    "y = y_mc == \"Lodgepole_Pine\"\n",
    "xtrain, xtest, ytrain, ytest, ytrain_mc, ytest_mc = train_test_split(X, y, y_mc, test_size=0.2, shuffle=True)"
   ]
  },
  {
   "cell_type": "markdown",
   "id": "0a6192bd-375f-428d-b94f-37cd77a4b241",
   "metadata": {},
   "source": [
    "# Train an XGBoost model"
   ]
  },
  {
   "cell_type": "code",
   "execution_count": 4,
   "id": "b1561682-2628-4447-b62b-f24d88c0ac08",
   "metadata": {},
   "outputs": [],
   "source": [
    "import veritas\n",
    "import xgboost as xgb\n",
    "import tqdm\n",
    "from sklearn.metrics import accuracy_score, roc_auc_score"
   ]
  },
  {
   "cell_type": "code",
   "execution_count": 5,
   "id": "0686c394-8a18-4c7f-91a6-7a768732d955",
   "metadata": {},
   "outputs": [
    {
     "name": "stdout",
     "output_type": "stream",
     "text": [
      "XGB trained in 7.92949366569519 seconds\n"
     ]
    }
   ],
   "source": [
    "params = {\n",
    "    \"n_estimators\": 100,\n",
    "    \"eval_metric\": \"auc\",\n",
    "    \"seed\": 197,\n",
    "    \"max_depth\": 10,\n",
    "    \"learning_rate\": 0.2\n",
    "}\n",
    "model = xgb.XGBClassifier(**params)\n",
    "\n",
    "t = time.time()\n",
    "model.fit(X, y)\n",
    "print(f\"XGB trained in {time.time()-t} seconds\")"
   ]
  },
  {
   "cell_type": "code",
   "execution_count": 6,
   "id": "41e806a9-5015-40dd-9bf3-9ee5f56bd796",
   "metadata": {
    "tags": []
   },
   "outputs": [
    {
     "name": "stdout",
     "output_type": "stream",
     "text": [
      "Train acc: 0.939, test acc: 0.939 wrt true labels\n",
      "Train auc: 0.940, test auc: 0.940 wrt true labels\n"
     ]
    }
   ],
   "source": [
    "ytrain_pred = model.predict(xtrain)\n",
    "ytest_pred = model.predict(xtest)\n",
    "acc_train = accuracy_score(ytrain, ytrain_pred)\n",
    "acc_test = accuracy_score(ytest, ytest_pred)\n",
    "auc_train = roc_auc_score(ytrain, ytrain_pred)\n",
    "auc_test = roc_auc_score(ytest, ytest_pred)\n",
    "\n",
    "print(f\"Train acc: {acc_train:.3f}, test acc: {acc_test:.3f} wrt true labels\")\n",
    "print(f\"Train auc: {auc_train:.3f}, test auc: {auc_test:.3f} wrt true labels\")"
   ]
  },
  {
   "cell_type": "markdown",
   "id": "3271f1f8-695d-4b83-bab2-6760e3558bd5",
   "metadata": {},
   "source": [
    "# Generate adversarial examples\n",
    "\n",
    "We only allow changes to the first 10 numerical attribute values. The remaining 44 attribute values are binary."
   ]
  },
  {
   "cell_type": "code",
   "execution_count": 7,
   "id": "b7ce0ec8-69a9-4188-a697-212828123232",
   "metadata": {
    "tags": []
   },
   "outputs": [],
   "source": [
    "# FROM CLASS 0 -> CLASS 1\n",
    "number_of_adv_examples = 10\n",
    "\n",
    "rng = np.random.default_rng(seed=19656)\n",
    "xtest0 = xtest[ytest==0, :]\n",
    "subset = xtest0[rng.choice(range(xtest0.shape[0]), number_of_adv_examples), :]\n",
    "\n",
    "eps = 0.2"
   ]
  },
  {
   "cell_type": "code",
   "execution_count": 8,
   "id": "84380740-f95d-4110-a679-c66e886dfdff",
   "metadata": {},
   "outputs": [],
   "source": [
    "feat2id = lambda s: int(s[1:])\n",
    "at = veritas.addtree_from_xgb_model(model, feat2id)\n",
    "Xstd = xtrain.std(axis=0)\n",
    "Xstd[10:] = 0.0 # allow no change in binary attributes"
   ]
  },
  {
   "cell_type": "code",
   "execution_count": 9,
   "id": "142b4cf5-131c-4fc7-b991-a6bb7efa219c",
   "metadata": {
    "tags": []
   },
   "outputs": [
    {
     "name": "stderr",
     "output_type": "stream",
     "text": [
      "100%|██████████| 10/10 [00:00<00:00, 29.81it/s]\n"
     ]
    }
   ],
   "source": [
    "adv_examples = []\n",
    "for i in tqdm.tqdm(range(subset.shape[0])):\n",
    "    base_example = subset[i, :]\n",
    "    \n",
    "    # allow each attribute to vary by eps*stddev of attribute to either side\n",
    "    box = [veritas.Domain(x-eps*s, x+eps*s) for x, s in zip(base_example, Xstd)]\n",
    "    \n",
    "    s = veritas.Search.max_output(at)\n",
    "    s.prune(box)\n",
    "\n",
    "    # continue the search for at most 1 second\n",
    "    # stop early when the optimal solution is found\n",
    "    stop_reason = s.step_for(1.0, 1000)\n",
    "    \n",
    "    if s.num_solutions() > 0:\n",
    "        sol = s.get_solution(0)\n",
    "        adv_example = veritas.get_closest_example(sol, base_example)\n",
    "\n",
    "        res = {\"i\": i, \"adv_example\": adv_example, \"base_example\": base_example}\n",
    "\n",
    "        res[\"base_ypred_at\"] = at.predict_proba(np.atleast_2d(base_example))[0]\n",
    "        res[\"base_ypred\"] = model.predict_proba(np.atleast_2d(base_example))[0,1]\n",
    "        res[\"adv_ypred\"] = model.predict_proba(np.atleast_2d(adv_example))[0,1]\n",
    "        res[\"adv_ypred_at\"] = at.predict_proba(np.atleast_2d(adv_example))[0]\n",
    "        res[\"optimal\"] = s.is_optimal()\n",
    "\n",
    "        adv_examples.append(res)\n",
    "    else:\n",
    "        print(\"no adversarial examples found for\", i)"
   ]
  },
  {
   "cell_type": "code",
   "execution_count": 10,
   "id": "364a9553-7401-4150-b535-c439da90430d",
   "metadata": {
    "tags": []
   },
   "outputs": [
    {
     "name": "stdout",
     "output_type": "stream",
     "text": [
      "i  p(y=1|normal)  p(y=1|adv)     success?  optimal?\n",
      "0           0.2%        6.9%            -         y\n",
      "1           4.3%       60.7%            y         y\n",
      "2          10.2%       69.5%            y         y\n",
      "3           5.2%       60.6%            y         y\n",
      "4          11.0%       59.3%            y         y\n",
      "5          51.3%       98.3%            y         y\n",
      "6           0.4%       22.4%            -         y\n",
      "7           0.2%       12.2%            -         y\n",
      "8           3.2%       84.4%            y         y\n",
      "9          13.6%       47.5%            -         y\n"
     ]
    }
   ],
   "source": [
    "print(\"i  {:15}{:15}{:>8}{:>10}\".format(\"p(y=1|normal)\", \"p(y=1|adv)\", \"success?\", \"optimal?\"))\n",
    "for i, res in enumerate(adv_examples):\n",
    "    success = \"y\" if res[\"adv_ypred\"]>0.5 else \"-\"\n",
    "    optimal = \"y\" if res[\"optimal\"] else \"-\"\n",
    "    base = res[\"base_ypred\"]\n",
    "    adv = res[\"adv_ypred\"]\n",
    "    print(\"{:<3}{:>13}  {:>10}     {:>8}{:>10}\".format(i, f'{base*100:4.1f}%', f'{adv*100:4.1f}%', success, optimal))"
   ]
  },
  {
   "cell_type": "markdown",
   "id": "2edde6d5-4377-458d-a0fa-4510e99c4af0",
   "metadata": {},
   "source": [
    "**Which attributes differ?**\n",
    "\n",
    "> Name / Data Type / Measurement / Description\n",
    "> --------------------------------------------\n",
    "> Elevation / quantitative /meters / Elevation in meters  \n",
    "> Aspect / quantitative / azimuth / Aspect in degrees azimuth  \n",
    "> Slope / quantitative / degrees / Slope in degrees  \n",
    "> Horizontal_Distance_To_Hydrology / quantitative / meters / Horz Dist to nearest surface water features  \n",
    "> Vertical_Distance_To_Hydrology / quantitative / meters / Vert Dist to nearest surface water features  \n",
    "> Horizontal_Distance_To_Roadways / quantitative / meters / Horz Dist to nearest roadway   \n",
    "> Hillshade_9am / quantitative / 0 to 255 index / Hillshade index at 9am, summer solstice   \n",
    "> Hillshade_Noon / quantitative / 0 to 255 index / Hillshade index at noon, summer solstice   \n",
    "> Hillshade_3pm / quantitative / 0 to 255 index / Hillshade index at 3pm, summer solstice   \n",
    "> Horizontal_Distance_To_Fire_Points / quantitative / meters / Horz Dist to nearest wildfire ignition points   \n",
    "> Wilderness_Area (4 binary columns) / qualitative / 0 (absence) or 1 (presence) / Wilderness area designation   \n",
    "> Soil_Type (40 binary columns) / qualitative / 0 (absence) or 1 (presence) / Soil Type designation   \n",
    "> Cover_Type (7 types) / integer / 1 to 7 / Forest Cover Type designation "
   ]
  },
  {
   "cell_type": "code",
   "execution_count": 11,
   "id": "a6944eba-b6c9-4124-a109-6ad4053f9d40",
   "metadata": {},
   "outputs": [
    {
     "name": "stdout",
     "output_type": "stream",
     "text": [
      "i=0 p(y=1) = 0.2% -> 6.9%\n",
      "    attribute          normal      adv.     diff.\n",
      "    elevation          3481.0    3429.5     -51.5\n",
      "    aspect               69.0      67.5      -1.5\n",
      "    slope                18.0      18.5       0.5\n",
      "    hoz_dist_hydro       90.0      76.0     -14.0\n",
      "    ver_dist_hydro        2.0      -4.5      -6.5\n",
      "    hoz_dist_road      1764.0    1573.5    -190.5\n",
      "    shade_9am           236.0     234.5      -1.5\n",
      "    shade_noon          203.0     204.5       1.5\n",
      "    shade_3am            92.0      92.0       0.0\n",
      "    hoz_dist_fire      1966.0    2219.5     253.5\n",
      "i=1 p(y=1) = 4.3% -> 60.7%\n",
      "    attribute          normal      adv.     diff.\n",
      "    elevation          3213.0    3159.5     -53.5\n",
      "    aspect              126.0     132.5       6.5\n",
      "    slope                23.0      22.5      -0.5\n",
      "    hoz_dist_hydro      335.0     350.5      15.5\n",
      "    ver_dist_hydro       59.0      65.5       6.5\n",
      "    hoz_dist_road      3770.0    3770.0       0.0\n",
      "    shade_9am           251.0     247.5      -3.5\n",
      "    shade_noon          218.0     221.5       3.5\n",
      "    shade_3am            82.0      87.5       5.5\n",
      "    hoz_dist_fire       481.0     576.5      95.5\n",
      "i=2 p(y=1) = 10.2% -> 69.5%\n",
      "    attribute          normal      adv.     diff.\n",
      "    elevation          2963.0    2989.5      26.5\n",
      "    aspect              329.0     307.5     -21.5\n",
      "    slope                10.0      10.0       0.0\n",
      "    hoz_dist_hydro      108.0     101.5      -6.5\n",
      "    ver_dist_hydro       -5.0       3.5       8.5\n",
      "    hoz_dist_road       480.0     786.0     306.0\n",
      "    shade_9am           197.0     197.0       0.0\n",
      "    shade_noon          229.0     225.5      -3.5\n",
      "    shade_3am           171.0     164.5      -6.5\n",
      "    hoz_dist_fire       976.0    1004.5      28.5\n",
      "i=3 p(y=1) = 5.2% -> 60.6%\n",
      "    attribute          normal      adv.     diff.\n",
      "    elevation          2954.0    2914.5     -39.5\n",
      "    aspect              167.0     177.5      10.5\n",
      "    slope                23.0      23.5       0.5\n",
      "    hoz_dist_hydro       90.0      90.0       0.0\n",
      "    ver_dist_hydro        6.0      -3.5      -9.5\n",
      "    hoz_dist_road      2676.0    2953.5     277.5\n",
      "    shade_9am           232.0     234.5       2.5\n",
      "    shade_noon          241.0     244.5       3.5\n",
      "    shade_3am           128.0     135.5       7.5\n",
      "    hoz_dist_fire      1599.0    1863.5     264.5\n",
      "i=4 p(y=1) = 11.0% -> 59.3%\n",
      "    attribute          normal      adv.     diff.\n",
      "    elevation          3172.0    3215.5      43.5\n",
      "    aspect              292.0     280.5     -11.5\n",
      "    slope                15.0      14.5      -0.5\n",
      "    hoz_dist_hydro       42.0      51.0       9.0\n",
      "    ver_dist_hydro       -1.0      -4.5      -3.5\n",
      "    hoz_dist_road       732.0     535.5    -196.5\n",
      "    shade_9am           178.0     182.5       4.5\n",
      "    shade_noon          236.0     232.5      -3.5\n",
      "    shade_3am           198.0     198.0       0.0\n",
      "    hoz_dist_fire      2431.0    2661.0     230.0\n",
      "i=5 p(y=1) = 51.3% -> 98.3%\n",
      "    attribute          normal      adv.     diff.\n",
      "    elevation          2781.0    2815.5      34.5\n",
      "    aspect              126.0     126.0       0.0\n",
      "    slope                 6.0       5.5      -0.5\n",
      "    hoz_dist_hydro      418.0     448.0      30.0\n",
      "    ver_dist_hydro       38.0      46.0       8.0\n",
      "    hoz_dist_road      2884.0    2953.5      69.5\n",
      "    shade_9am           231.0     231.5       0.5\n",
      "    shade_noon          236.0     236.0       0.0\n",
      "    shade_3am           138.0     136.5      -1.5\n",
      "    hoz_dist_fire      6623.0    6400.5    -222.5\n",
      "i=6 p(y=1) = 0.4% -> 22.4%\n",
      "    attribute          normal      adv.     diff.\n",
      "    elevation          3333.0    3290.5     -42.5\n",
      "    aspect               40.0      30.5      -9.5\n",
      "    slope                26.0      26.5       0.5\n",
      "    hoz_dist_hydro      218.0     255.5      37.5\n",
      "    ver_dist_hydro       78.0      85.5       7.5\n",
      "    hoz_dist_road      2263.0    2039.5    -223.5\n",
      "    shade_9am           212.0     210.5      -1.5\n",
      "    shade_noon          172.0     168.5      -3.5\n",
      "    shade_3am            81.0      81.0       0.0\n",
      "    hoz_dist_fire      1208.0    1280.5      72.5\n",
      "i=7 p(y=1) = 0.2% -> 12.2%\n",
      "    attribute          normal      adv.     diff.\n",
      "    elevation          2179.0    2214.5      35.5\n",
      "    aspect               18.0       7.5     -10.5\n",
      "    slope                31.0      31.0       0.0\n",
      "    hoz_dist_hydro      379.0     380.5       1.5\n",
      "    ver_dist_hydro      128.0     124.5      -3.5\n",
      "    hoz_dist_road       492.0     284.0    -208.0\n",
      "    shade_9am           180.0     178.5      -1.5\n",
      "    shade_noon          158.0     158.5       0.5\n",
      "    shade_3am            99.0      99.0       0.0\n",
      "    hoz_dist_fire       417.0     602.0     185.0\n",
      "i=8 p(y=1) = 3.2% -> 84.4%\n",
      "    attribute          normal      adv.     diff.\n",
      "    elevation          2611.0    2653.0      42.0\n",
      "    aspect              135.0     156.5      21.5\n",
      "    slope                 3.0       3.0       0.0\n",
      "    hoz_dist_hydro        0.0      36.0      36.0\n",
      "    ver_dist_hydro        0.0     -11.5     -11.5\n",
      "    hoz_dist_road      2030.0    1759.0    -271.0\n",
      "    shade_9am           224.0     223.5      -0.5\n",
      "    shade_noon          238.0     235.5      -2.5\n",
      "    shade_3am           150.0     151.5       1.5\n",
      "    hoz_dist_fire      2716.0    2456.5    -259.5\n",
      "i=9 p(y=1) = 13.6% -> 47.5%\n",
      "    attribute          normal      adv.     diff.\n",
      "    elevation          3139.0    3140.5       1.5\n",
      "    aspect               89.0      79.5      -9.5\n",
      "    slope                11.0      11.0       0.0\n",
      "    hoz_dist_hydro      180.0     166.0     -14.0\n",
      "    ver_dist_hydro       30.0      19.5     -10.5\n",
      "    hoz_dist_road      2970.0    2875.5     -94.5\n",
      "    shade_9am           237.0     239.5       2.5\n",
      "    shade_noon          222.0     219.5      -2.5\n",
      "    shade_3am           115.0     115.0       0.0\n",
      "    hoz_dist_fire      3287.0    3225.5     -61.5\n"
     ]
    }
   ],
   "source": [
    "import pprint\n",
    "attribute_names = [\"elevation\", \"aspect\", \"slope\", \"hoz_dist_hydro\", \"ver_dist_hydro\", \"hoz_dist_road\", \"shade_9am\", \"shade_noon\", \"shade_3am\", \"hoz_dist_fire\"]# + [f\"wilderness{k}\" for k in range(4)] + [f\"soil{k}\" for k in range(40)]\n",
    "\n",
    "for i, adv in enumerate(adv_examples):\n",
    "    base_ex, adv_ex = adv[\"base_example\"], adv_examples[i][\"adv_example\"]\n",
    "    print(f'i={i} p(y=1) = {adv[\"base_ypred\"]*100:.1f}% -> {adv[\"adv_ypred\"]*100:.1f}%')\n",
    "    print(\"    {:15}{:>10}{:>10}{:>10}\".format(\"attribute\", \"normal\", \"adv.\", \"diff.\"))\n",
    "    for j, attrname in enumerate(attribute_names):\n",
    "        b, a = base_ex[j], adv_ex[j]\n",
    "        print(\"    {:15}{:>10}{:>10}{:>10}\".format(attrname, f'{b:.1f}', f'{a:.1f}', f'{a-b:.1f}'))"
   ]
  },
  {
   "cell_type": "code",
   "execution_count": null,
   "id": "94a534ef-c906-45a8-b51d-5c12baffbdc8",
   "metadata": {},
   "outputs": [],
   "source": []
  }
 ],
 "metadata": {
  "kernelspec": {
   "display_name": "Python 3",
   "language": "python",
   "name": "python3"
  },
  "language_info": {
   "codemirror_mode": {
    "name": "ipython",
    "version": 3
   },
   "file_extension": ".py",
   "mimetype": "text/x-python",
   "name": "python",
   "nbconvert_exporter": "python",
   "pygments_lexer": "ipython3",
   "version": "3.10.7"
  }
 },
 "nbformat": 4,
 "nbformat_minor": 5
}
