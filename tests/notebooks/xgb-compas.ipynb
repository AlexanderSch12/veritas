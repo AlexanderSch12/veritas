{
 "cells": [
  {
   "cell_type": "code",
   "execution_count": null,
   "metadata": {},
   "outputs": [],
   "source": [
    "import pandas as pd"
   ]
  },
  {
   "cell_type": "code",
   "execution_count": null,
   "metadata": {},
   "outputs": [],
   "source": [
    "# http://www.fairness-measures.org/Pages/Datasets/Compas.html\n",
    "# https://www.propublica.org/datastore/dataset/compas-recidivism-risk-score-data-and-analysis\n",
    "# https://github.com/propublica/compas-analysis/blob/master/Compas%20Analysis.ipynb\n",
    "\n",
    "data_raw = pd.read_csv(\"~/Downloads/compas-scores-raw.csv\")\n",
    "data_raw.columns"
   ]
  },
  {
   "cell_type": "code",
   "execution_count": null,
   "metadata": {},
   "outputs": [],
   "source": [
    "data_rec = data_raw.loc[\n",
    "    (data_raw[\"DisplayText\"] == \"Risk of Recidivism\") &\n",
    "    (data_raw[\"AssessmentType\"] == \"New\")\n",
    "]"
   ]
  },
  {
   "cell_type": "code",
   "execution_count": null,
   "metadata": {},
   "outputs": [],
   "source": [
    "cols = [\"Agency_Text\", \"Sex_Code_Text\", \"Ethnic_Code_Text\", \"DateOfBirth\",\n",
    "        \"ScaleSet_ID\", \"Language\", \"LegalStatus\", \"CustodyStatus\", \"MaritalStatus\"]\n",
    "data = data_rec.loc[:, cols]\n",
    "\n",
    "#data.loc[:, (\"Agency_Text\"     )] = pd.Categorical(data.loc[:, (\"Agency_Text\")])\n",
    "#data.loc[:, (\"Sex_Code_Text\"   )] = pd.Categorical(data.loc[:, (\"Sex_Code_Text\")])\n",
    "#data.loc[:, (\"Ethnic_Code_Text\")] = pd.Categorical(data.loc[:, (\"Ethnic_Code_Text\")])\n",
    "#data.loc[:, (\"Language\"        )] = pd.Categorical(data.loc[:, (\"Language\")])\n",
    "#data.loc[:, (\"LegalStatus\"     )] = pd.Categorical(data.loc[:, (\"LegalStatus\")])\n",
    "#data.loc[:, (\"CustodyStatus\"   )] = pd.Categorical(data.loc[:, (\"CustodyStatus\")])\n",
    "#data.loc[:, (\"MaritalStatus\"   )] = pd.Categorical(data.loc[:, (\"MaritalStatus\")])\n",
    "data[\"DateOfBirth\"] = pd.to_datetime(data[\"DateOfBirth\"])"
   ]
  },
  {
   "cell_type": "code",
   "execution_count": null,
   "metadata": {},
   "outputs": [],
   "source": [
    "data"
   ]
  },
  {
   "cell_type": "code",
   "execution_count": null,
   "metadata": {},
   "outputs": [],
   "source": [
    "agency  = pd.get_dummies(data[\"Agency_Text\"     ], prefix=\"agency\")\n",
    "sex     = pd.get_dummies(data[\"Sex_Code_Text\"   ], prefix=\"sex\")\n",
    "ethnic  = pd.get_dummies(data[\"Ethnic_Code_Text\"], prefix=\"ethnic\")\n",
    "lang    = pd.get_dummies(data[\"Language\"        ], prefix=\"lang\")\n",
    "legal   = pd.get_dummies(data[\"LegalStatus\"     ], prefix=\"legal\")\n",
    "custody = pd.get_dummies(data[\"CustodyStatus\"   ], prefix=\"custody\")\n",
    "marital = pd.get_dummies(data[\"MaritalStatus\"   ], prefix=\"marital\")\n",
    "\n",
    "dob = pd.DataFrame({\n",
    "    \"dob_day\": data[\"DateOfBirth\"].dt.day,\n",
    "    \"dob_month\": data[\"DateOfBirth\"].dt.month,\n",
    "    \"dob_year\": data[\"DateOfBirth\"].dt.year\n",
    "})\n",
    "\n",
    "X = pd.concat([agency, sex, ethnic, lang, legal, custody, marital, dob], axis=1)\n",
    "y = data_rec[\"RawScore\"]"
   ]
  },
  {
   "cell_type": "markdown",
   "metadata": {},
   "source": [
    "# Model"
   ]
  },
  {
   "cell_type": "code",
   "execution_count": null,
   "metadata": {},
   "outputs": [],
   "source": [
    "import xgboost as xgb\n",
    "import numpy as np"
   ]
  },
  {
   "cell_type": "code",
   "execution_count": null,
   "metadata": {},
   "outputs": [],
   "source": [
    "np.random.seed(1)\n",
    "Is = np.random.permutation(X.shape[0])\n",
    "Im = int(len(Is) * 0.8)\n",
    "dtrain = xgb.DMatrix(X.loc[Is[:Im], :], label=y[:Im])\n",
    "dtest  = xgb.DMatrix(X.loc[Is[Im:], :], label=y[Im:])\n",
    "params = {\n",
    "    \"learning_rate\": 0.25,\n",
    "    \"max_depth\": 6,\n",
    "    \"objective\": \"reg:squarederror\"\n",
    "}\n",
    "bst = xgb.train(params, dtrain, 200,\n",
    "                [(dtrain, \"train\"), (dtest, \"test\")],\n",
    "                early_stopping_rounds=10)\n",
    "yhat = bst.predict(xgb.DMatrix(X))"
   ]
  },
  {
   "cell_type": "code",
   "execution_count": null,
   "metadata": {},
   "outputs": [],
   "source": [
    "yhat[:100]"
   ]
  },
  {
   "cell_type": "code",
   "execution_count": null,
   "metadata": {},
   "outputs": [],
   "source": [
    "y[:10].to_numpy()"
   ]
  },
  {
   "cell_type": "code",
   "execution_count": null,
   "metadata": {},
   "outputs": [],
   "source": [
    "xgb.plot_importance(bst)"
   ]
  },
  {
   "cell_type": "code",
   "execution_count": null,
   "metadata": {},
   "outputs": [],
   "source": []
  }
 ],
 "metadata": {
  "@webio": {
   "lastCommId": null,
   "lastKernelId": null
  },
  "kernelspec": {
   "display_name": "Python 3",
   "language": "python",
   "name": "python3"
  },
  "language_info": {
   "codemirror_mode": {
    "name": "ipython",
    "version": 3
   },
   "file_extension": ".py",
   "mimetype": "text/x-python",
   "name": "python",
   "nbconvert_exporter": "python",
   "pygments_lexer": "ipython3",
   "version": "3.7.4"
  }
 },
 "nbformat": 4,
 "nbformat_minor": 2
}
