{
 "cells": [
  {
   "cell_type": "code",
   "execution_count": null,
   "metadata": {},
   "outputs": [],
   "source": [
    "import os\n",
    "\n",
    "from PIL import Image\n",
    "from scipy.ndimage import center_of_mass\n",
    "\n",
    "import pandas as pd\n",
    "import numpy as np\n",
    "import imageio\n",
    "import matplotlib.pyplot as plt\n",
    "\n",
    "import PIL"
   ]
  },
  {
   "cell_type": "code",
   "execution_count": null,
   "metadata": {},
   "outputs": [],
   "source": [
    "hands_pd = pd.read_csv(\"~/data/11khands/HandInfo.csv\")\n",
    "hands_pd"
   ]
  },
  {
   "cell_type": "code",
   "execution_count": null,
   "metadata": {},
   "outputs": [],
   "source": [
    "def read_img(name, numpy=True, pil=False):\n",
    "    img = imageio.imread(f\"~/data/11khands/Hands/{name}\")\n",
    "    if numpy: return np.array(img)\n",
    "    return img\n",
    "\n",
    "def imshow(img, ax):\n",
    "    if not isinstance(img, np.ndarray):\n",
    "        img = img / 2 + 0.5     # unnormalize\n",
    "        img = img.numpy()\n",
    "        img = np.transpose(img, (1, 2, 0))\n",
    "    ax.imshow(img)\n",
    "\n",
    "def to_img(x):\n",
    "    x = 0.5 * (x + 1)\n",
    "    x = x.clamp(0, 1)\n",
    "    x = x.view(x.size(0), 1, 100, 100)\n",
    "    return x"
   ]
  },
  {
   "cell_type": "code",
   "execution_count": null,
   "metadata": {},
   "outputs": [],
   "source": [
    "img = read_img(\"Hand_0000422.jpg\")\n",
    "          \n",
    "com_x = 0\n",
    "com_y = 0\n",
    "for i in range(3):\n",
    "    com = center_of_mass(255 - img[:,:,i])\n",
    "    com_x += 1/3 * com[1]\n",
    "    com_y += 1/3 * com[0]\n",
    "    \n",
    "print(com_x, com_y)\n",
    "\n",
    "plt.imshow(img)\n",
    "plt.plot(com_x, com_y, 'or')\n",
    "plt.show()"
   ]
  },
  {
   "cell_type": "code",
   "execution_count": null,
   "metadata": {},
   "outputs": [],
   "source": [
    "def transform_raw_hand_image(img):\n",
    "    com_x, com_y = 0, 0\n",
    "    for i in range(3):\n",
    "        com = center_of_mass(255 - img[:,:,i])\n",
    "        com_x += 1/3 * com[1]\n",
    "        com_y += 1/3 * com[0]\n",
    "    com_x, com_y = int(com_x), int(com_y)\n",
    "    \n",
    "    box_x = max(0, min(400, com_x-600))\n",
    "    box_y = max(0, com_y-600)\n",
    "    box = (box_x, box_y, box_x + 1200, box_y + 1200)\n",
    "\n",
    "    pil = PIL.Image.fromarray(img)\n",
    "    crop = pil.crop(box)\n",
    "    crop_res = crop.resize((100, 100), PIL.Image.BILINEAR)\n",
    "    \n",
    "    return crop_res\n",
    "\n",
    "transform_raw_hand_image(read_img(\"Hand_0000854.jpg\"))"
   ]
  },
  {
   "cell_type": "code",
   "execution_count": null,
   "metadata": {},
   "outputs": [],
   "source": [
    "for f in os.listdir(\"~/data/11khands/Hands\"):\n",
    "    img = transform_raw_hand_image(read_img(f))\n",
    "    img.save(f\"~/data/11khands/small/unk/{f}\")"
   ]
  },
  {
   "cell_type": "code",
   "execution_count": null,
   "metadata": {},
   "outputs": [],
   "source": [
    "fig, ax = plt.subplots(1, 4, figsize=(14, 6))\n",
    "imshow(read_img(\"Hand_0011740.jpg\"), ax[0])\n",
    "imshow(read_img(\"Hand_0000003.jpg\"), ax[1])\n",
    "imshow(read_img(\"Hand_0000004.jpg\"), ax[2])\n",
    "imshow(read_img(\"Hand_0000005.jpg\"), ax[3])\n",
    "plt.show()"
   ]
  },
  {
   "cell_type": "code",
   "execution_count": null,
   "metadata": {},
   "outputs": [],
   "source": []
  }
 ],
 "metadata": {
  "@webio": {
   "lastCommId": "813ed5c4b8b2441592adece3d1af6a9d",
   "lastKernelId": "931f3a2b-45ce-4736-97d4-ef889f559314"
  },
  "kernelspec": {
   "display_name": "Python 3",
   "language": "python",
   "name": "python3"
  },
  "language_info": {
   "codemirror_mode": {
    "name": "ipython",
    "version": 3
   },
   "file_extension": ".py",
   "mimetype": "text/x-python",
   "name": "python",
   "nbconvert_exporter": "python",
   "pygments_lexer": "ipython3",
   "version": "3.7.4"
  }
 },
 "nbformat": 4,
 "nbformat_minor": 2
}
