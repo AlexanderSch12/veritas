{
 "cells": [
  {
   "cell_type": "code",
   "execution_count": null,
   "metadata": {},
   "outputs": [],
   "source": [
    "import os\n",
    "from PIL import Image"
   ]
  },
  {
   "cell_type": "code",
   "execution_count": null,
   "metadata": {},
   "outputs": [],
   "source": [
    "PATH = \"\"\n",
    "\n",
    "stop = False\n",
    "imgs = []\n",
    "results = {}\n",
    "with open(os.path.join(PATH, \"labels.csv\")) as f:\n",
    "    for line in f:\n",
    "        #print(line.strip().split(\",\"))\n",
    "        f, label = line.strip().split(\",\")\n",
    "        results[f] = label\n",
    "        \n",
    "print(f\"{len(results)} already labeled.\")\n",
    "\n",
    "for f in os.listdir(os.path.join(PATH, \"unk\")):\n",
    "    if f in results: continue\n",
    "    if stop: break\n",
    "\n",
    "    img = Image.open(os.path.join(PATH, \"unk\", f))\n",
    "    \n",
    "    display(img)\n",
    "    \n",
    "    while not stop:\n",
    "        answer_str = input(f\"{f}: Answer [open|closed|quit|undo] \")\n",
    "        if answer_str in {\"open\", \"o\"}:\n",
    "            answer = True\n",
    "            break\n",
    "        elif answer_str in {\"closed\", \"c\", \"p\"}:\n",
    "            answer = False\n",
    "            break\n",
    "        elif answer_str in {\"undo\", \"u\"} and len(imgs) > 0:\n",
    "            f = imgs.pop()\n",
    "            del results[f]\n",
    "            print(f\"Undid {f}\")\n",
    "        elif answer_str in {\"quit\", \"q\"}:\n",
    "            stop = True\n",
    "            \n",
    "    imgs.append(f)\n",
    "    results[f] = answer\n",
    "    \n",
    "with open(os.path.join(PATH, \"labels.csv\"), \"w\") as fh:\n",
    "    for f, label in results.items():\n",
    "        print(f\"{f},{0 if label else 1}\", file=fh)"
   ]
  },
  {
   "cell_type": "code",
   "execution_count": null,
   "metadata": {},
   "outputs": [],
   "source": []
  },
  {
   "cell_type": "code",
   "execution_count": null,
   "metadata": {},
   "outputs": [],
   "source": [
    "\"Hand_0007939.jpg\"\n",
    "\"Hand_0007977.jpg\"\n",
    "\"Hand_0007979.jpg\"\n",
    "\"Hand_0007982.jpg\"\n",
    "\"Hand_0007953.jpg\"\n",
    "\"Hand_0007954.jpg\"\n",
    "\"Hand_0007928.jpg\""
   ]
  }
 ],
 "metadata": {
  "@webio": {
   "lastCommId": "5f3cfb37104c4fcc870f5ef23f8abb01",
   "lastKernelId": "476b668b-8053-424d-bc54-072cc1d61f45"
  },
  "kernelspec": {
   "display_name": "Python 3",
   "language": "python",
   "name": "python3"
  },
  "language_info": {
   "codemirror_mode": {
    "name": "ipython",
    "version": 3
   },
   "file_extension": ".py",
   "mimetype": "text/x-python",
   "name": "python",
   "nbconvert_exporter": "python",
   "pygments_lexer": "ipython3",
   "version": "3.7.4"
  }
 },
 "nbformat": 4,
 "nbformat_minor": 2
}
