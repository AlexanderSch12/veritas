{
 "cells": [
  {
   "cell_type": "code",
   "execution_count": null,
   "metadata": {},
   "outputs": [],
   "source": [
    "import torch\n",
    "from torch import nn\n",
    "from torch.autograd import Variable\n",
    "from torch.utils.data import DataLoader, Dataset\n",
    "from torchvision import transforms, datasets\n",
    "\n",
    "import pandas as pd\n",
    "import numpy as np\n",
    "import matplotlib.pyplot as plt"
   ]
  },
  {
   "cell_type": "code",
   "execution_count": null,
   "metadata": {},
   "outputs": [],
   "source": [
    "# https://pytorch.org/tutorials/beginner/blitz/cifar10_tutorial.html#sphx-glr-beginner-blitz-cifar10-tutorial-py\n",
    "def imshow(img, ax):\n",
    "    if not isinstance(img, np.ndarray):\n",
    "        img = img / 2 + 0.5     # unnormalize\n",
    "        img = img.numpy()\n",
    "        img = np.transpose(img, (1, 2, 0))\n",
    "    ax.imshow(img)"
   ]
  },
  {
   "cell_type": "code",
   "execution_count": null,
   "metadata": {},
   "outputs": [],
   "source": [
    "transf = transforms.Compose([transforms.ToTensor(),\n",
    "                             transforms.Normalize([0.5, 0.5, 0.5], [0.5, 0.5, 0.5])\n",
    "                            ])\n",
    "dataset = datasets.ImageFolder(\"/home/laurens/data/11khands/small\", transform=transf)\n",
    "dataloader = DataLoader(dataset, batch_size=4,\n",
    "                        shuffle=True, num_workers=1)\n",
    "\n",
    "for i_batch, sample_batched in enumerate(dataloader):\n",
    "    fig, ax = plt.subplots(1, 4, figsize=(14, 6))\n",
    "    for i in range(sample_batched[0].shape[0]):\n",
    "        imshow(sample_batched[0][i], ax[i])\n",
    "    plt.show()\n",
    "    if i_batch == 1: break"
   ]
  },
  {
   "cell_type": "code",
   "execution_count": null,
   "metadata": {},
   "outputs": [],
   "source": [
    "# https://github.com/L1aoXingyu/pytorch-beginner/blob/master/08-AutoEncoder/conv_autoencoder.py\n",
    "class AutoEncoder(nn.Module):\n",
    "    def __init__(self):\n",
    "        super().__init__()\n",
    "        self.enc = nn.Sequential(\n",
    "            nn.Conv2d(3, 6, 3, stride=2, padding=1), # b, 6, 50, 50\n",
    "            nn.LeakyReLU(),\n",
    "            nn.MaxPool2d(2, stride=1, padding=1),  # b, 6, 25, 25\n",
    "            nn.Conv2d(6, 1, 5, stride=3, padding=2), # b, 1, 8, 8\n",
    "            nn.LeakyReLU()\n",
    "        )\n",
    "        self.dec = nn.Sequential(\n",
    "            nn.ConvTranspose2d(1, 6, 5, stride=3, padding=2),  # b, 6, 26, 26\n",
    "            nn.LeakyReLU(),\n",
    "            nn.ConvTranspose2d(6, 3, 5, stride=1, padding=1),  # b, 3, 51, 51\n",
    "            nn.LeakyReLU(),\n",
    "            nn.ConvTranspose2d(3, 3, 2, stride=2, padding=1),  # b, 3, 100, 100\n",
    "            nn.Tanh()\n",
    "        )\n",
    "    \n",
    "    def forward(self, x):\n",
    "        x = self.enc(x)\n",
    "        x = self.dec(x)\n",
    "        #print(x.shape)\n",
    "        #for m in self.enc:\n",
    "        #    x = m(x)\n",
    "        #    print(\"enc\", x.shape)\n",
    "        #for m in self.dec:\n",
    "        #    x = m(x)\n",
    "        #    print(\"dec\", x.shape)\n",
    "        return x\n",
    "\n",
    "params = sum(p.numel() for p in AutoEncoder().parameters() if p.requires_grad)\n",
    "print(\"number of parameters =\", params)"
   ]
  },
  {
   "cell_type": "code",
   "execution_count": null,
   "metadata": {},
   "outputs": [],
   "source": [
    "num_epochs = 100\n",
    "batch_size = 256\n",
    "learning_rate = 0.002\n",
    "\n",
    "dataset = datasets.ImageFolder(\"/home/laurens/data/11khands/small\", transform=transf)\n",
    "dataloader = DataLoader(dataset, batch_size=batch_size,\n",
    "                        shuffle=True, num_workers=8)\n",
    "\n",
    "net = AutoEncoder() #.cuda()\n",
    "criterion = nn.MSELoss()\n",
    "optimizer = torch.optim.Adam(net.parameters(),\n",
    "                             lr=learning_rate,\n",
    "                             weight_decay=1e-5)"
   ]
  },
  {
   "cell_type": "code",
   "execution_count": null,
   "metadata": {
    "scrolled": false
   },
   "outputs": [],
   "source": [
    "for epoch in range(num_epochs):\n",
    "    for data in dataloader:\n",
    "        img, _ = data\n",
    "        optimizer.zero_grad()\n",
    "        \n",
    "        # forward + backward + optimize\n",
    "        output = net(img)\n",
    "        loss = criterion(output, img)\n",
    "        loss.backward()\n",
    "        optimizer.step()\n",
    "    \n",
    "    # stats\n",
    "    print(f\"epoch [{epoch+1}/{num_epochs}], loss: {loss}\")\n",
    "    \n",
    "    if epoch % 2 == 0:\n",
    "    #if True:\n",
    "        fig, ax = plt.subplots(1, 4, figsize=(14, 6))\n",
    "        for i in range(4):\n",
    "            imshow(data[0][i], ax[i])\n",
    "        plt.show()\n",
    "        outp = output.cpu().detach()\n",
    "        fig, ax = plt.subplots(1, 4, figsize=(14, 6))\n",
    "        for i in range(4):\n",
    "            imshow(outp[i], ax[i])\n",
    "        plt.show()\n",
    "        \n",
    "    #print(net.state_dict())"
   ]
  },
  {
   "cell_type": "code",
   "execution_count": null,
   "metadata": {},
   "outputs": [],
   "source": []
  }
 ],
 "metadata": {
  "@webio": {
   "lastCommId": null,
   "lastKernelId": null
  },
  "kernelspec": {
   "display_name": "Python 3",
   "language": "python",
   "name": "python3"
  },
  "language_info": {
   "codemirror_mode": {
    "name": "ipython",
    "version": 3
   },
   "file_extension": ".py",
   "mimetype": "text/x-python",
   "name": "python",
   "nbconvert_exporter": "python",
   "pygments_lexer": "ipython3",
   "version": "3.7.4"
  }
 },
 "nbformat": 4,
 "nbformat_minor": 2
}
