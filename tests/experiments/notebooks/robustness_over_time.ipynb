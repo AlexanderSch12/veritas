{
 "cells": [
  {
   "cell_type": "code",
   "execution_count": null,
   "metadata": {},
   "outputs": [],
   "source": [
    "import gzip, json\n",
    "import numpy as np\n",
    "import matplotlib.pyplot as plt"
   ]
  },
  {
   "cell_type": "code",
   "execution_count": null,
   "metadata": {},
   "outputs": [],
   "source": [
    "def combine_results(*jsons):\n",
    "    jsons0 = []\n",
    "    for js in zip(*jsons):\n",
    "        j0 = {}\n",
    "        for j in js:\n",
    "            for k, v in j.items():\n",
    "                j0[k] = v\n",
    "        jsons0.append(j0)\n",
    "    return jsons0\n",
    "\n",
    "def parse_file(filename):\n",
    "    with gzip.open(filename, \"rb\") as f:\n",
    "        lines = f.readlines()\n",
    "        return [json.loads(line) for line in lines]"
   ]
  },
  {
   "cell_type": "code",
   "execution_count": null,
   "metadata": {},
   "outputs": [],
   "source": [
    "jsons1101_2s = parse_file(\"../results/r1-mnist-time2-100:200-1101.gz\") # Merge's results are invalid in this one\n",
    "#jsons0100_2s = parse_file(\"../results/r1-mnist-time2-100:200-0100.gz\")\n",
    "#jsons1101_2s = combine_results(jsons1101_2s, jsons0100_2s)\n",
    "jsons1100_4s = parse_file(\"../results/r1-mnist-time4-100:200-1100.gz\")\n",
    "jsons1100_6s = parse_file(\"../results/r1-mnist-time6-100:200-1100.gz\")\n",
    "jsons1100_8s = parse_file(\"../results/r1-mnist-time8-100:200-1100.gz\")\n",
    "jsons1100_10s = parse_file(\"../results/r1-mnist-time10-100:200-1100.gz\")\n",
    "\n",
    "jsons0e00 = parse_file(\"../results/r1-mnist-100:200-0e00.gz\") # external merge (clique size 2, merge level 2, anything more is OOM)"
   ]
  },
  {
   "cell_type": "code",
   "execution_count": null,
   "metadata": {},
   "outputs": [],
   "source": [
    "jsons0e00_start40 = parse_file(\"../results/rob_start40_200-depth8-100:200-0e00.gz\") # external merge (clique size 2, merge level 2, anything more is OOM)"
   ]
  },
  {
   "cell_type": "code",
   "execution_count": null,
   "metadata": {},
   "outputs": [],
   "source": [
    "kan_deltas = np.array([j[\"kantchelian_delta\"] for j in jsons1101_2s])\n",
    "kan_times = np.array([j[\"kantchelian\"][\"time_p\"] for j in jsons1101_2s])\n",
    "\n",
    "mext_deltas = np.array([j[\"merge_ext\"][\"deltas\"][-1] for j in jsons0e00])\n",
    "mext_times = np.array([j[\"merge_ext\"][\"times\"][-1] for j in jsons0e00])"
   ]
  },
  {
   "cell_type": "code",
   "execution_count": null,
   "metadata": {},
   "outputs": [],
   "source": [
    "jsons_dict = {2: jsons1101_2s, 4: jsons1100_4s, 6: jsons1100_6s, 8: jsons1100_8s, 10: jsons1100_10s}\n",
    "mer_times = {}\n",
    "mer_deltas = {}\n",
    "ver1_times = {}\n",
    "ver1_deltas = {}\n",
    "ver2_times = {}\n",
    "ver2_deltas = {}\n",
    "for seconds, jsons in jsons_dict.items():\n",
    "    mer_times[seconds] = np.array([j[\"merge_time\"] for j in jsons])\n",
    "    mer_deltas[seconds] = np.array([j[\"merge_deltas\"][-1][0] for j in jsons])\n",
    "    ver1_times[seconds] = np.array([j[\"veritas_time\"] for j in jsons])\n",
    "    ver1_deltas[seconds] = np.array([j[\"veritas_deltas\"][-1][0] for j in jsons])\n",
    "    ver2_times[seconds] = np.array([j[\"veritas_ara_time\"] for j in jsons])\n",
    "    ver2_deltas[seconds] = np.array([j[\"veritas_ara_deltas\"][-1][0] for j in jsons])"
   ]
  },
  {
   "cell_type": "markdown",
   "metadata": {},
   "source": [
    "# Bound when given more or less time"
   ]
  },
  {
   "cell_type": "code",
   "execution_count": null,
   "metadata": {},
   "outputs": [],
   "source": [
    "mer_ts = [t.mean() for t in mer_times.values()]\n",
    "mer_ys = [np.abs(d-kan_deltas).mean() for d in mer_deltas.values()]\n",
    "ver1_ts = [t.mean() for t in ver1_times.values()]\n",
    "ver1_ys = [np.abs(d-kan_deltas).mean() for d in ver1_deltas.values()]\n",
    "ver2_ts = [t.mean() for t in ver2_times.values()]\n",
    "ver2_ys = [np.abs(d-kan_deltas).mean() for d in ver2_deltas.values()]\n",
    "mext_t = mext_times.mean()\n",
    "mext_y = np.abs(mext_deltas-kan_deltas).mean()\n",
    "kan_t = kan_times.mean()"
   ]
  },
  {
   "cell_type": "code",
   "execution_count": null,
   "metadata": {},
   "outputs": [],
   "source": [
    "fig, ax = plt.subplots(figsize=(16, 6))\n",
    "ax.set_title(\"Average absolute deviation from MILP exact robustness delta per time budget (lower better)\")\n",
    "ax.plot(ver1_ts, ver1_ys, \"x:\", label=\"Veritas A*\")\n",
    "ax.plot(ver2_ts, ver2_ys, \"o:\", label=\"Veritas ARA*\")\n",
    "for i, (x, y) in enumerate(zip(ver2_ts, ver2_ys)):\n",
    "    ax.text(x, y-0.1, f\"{M[4,i]:.0f}×\", horizontalalignment='right', verticalalignment='top', c=\"gray\")\n",
    "ax.plot(mer_ts, mer_ys, \".:\", label=\"My Merge\")\n",
    "ax.set_xlabel(\"Time bugdet [s]\")\n",
    "ax.set_ylabel(\"Absolute deviation from MILP exact\")\n",
    "l, = ax.plot([mext_t], [mext_y], \"v--\", lw=1, label=\"Chen et al.'s Merge\")\n",
    "ax.axhline(y=mext_y, ls=l.get_linestyle(), c=l.get_color(), lw=l.get_linewidth())\n",
    "l, = ax.plot([kan_t], [0.0], \"^--\", lw=1, c=\"gray\", label=\"Kantchelian MILP\")\n",
    "ax.axhline(y=0.0, ls=l.get_linestyle(), c=l.get_color(), lw=l.get_linewidth())\n",
    "ax.text(kan_t, 0.1, f\"{kan_slower_mext:.0f}×\", horizontalalignment='right', verticalalignment='bottom', c=\"gray\")\n",
    "ax.set_xticks(range(0, 31))\n",
    "ax.legend()\n",
    "plt.show()"
   ]
  },
  {
   "cell_type": "markdown",
   "metadata": {},
   "source": [
    "# How often better than Chen / as good as Kantchelian MILP"
   ]
  },
  {
   "cell_type": "code",
   "execution_count": null,
   "metadata": {},
   "outputs": [],
   "source": [
    "mext_ad = np.abs(mext_deltas-kan_deltas)\n",
    "same_threshold = 0.1\n",
    "f = 100.0 / len(mext_ad) # as percentage\n",
    "\n",
    "mer_ts = [t.mean() for t in mer_times.values()]\n",
    "mer_ys = [f*np.sum(mext_ad - np.abs(d-kan_deltas) > same_threshold) for d in mer_deltas.values()]\n",
    "ver1_ts = [t.mean() for t in ver1_times.values()]\n",
    "ver1_ys = [f*np.sum(mext_ad - np.abs(d-kan_deltas) > same_threshold) for d in ver1_deltas.values()]\n",
    "ver2_ts = [t.mean() for t in ver2_times.values()]\n",
    "ver2_ys = [f*np.sum(mext_ad - np.abs(d-kan_deltas) > same_threshold) for d in ver2_deltas.values()]\n",
    "\n",
    "mer_ysb = [f*np.sum(np.abs(d-kan_deltas)-mext_ad > same_threshold) for d in mer_deltas.values()]\n",
    "ver1_ysb = [f*np.sum(np.abs(d-kan_deltas)-mext_ad > same_threshold) for d in ver1_deltas.values()]\n",
    "ver2_ysb = [f*np.sum(np.abs(d-kan_deltas)-mext_ad > same_threshold) for d in ver2_deltas.values()]\n",
    "\n",
    "mer_ys2 = [f*np.sum(same_threshold > np.abs(d-kan_deltas)) for d in mer_deltas.values()]\n",
    "ver1_ys2 = [f*np.sum(same_threshold > np.abs(d-kan_deltas)) for d in ver1_deltas.values()]\n",
    "ver2_ys2 = [f*np.sum(same_threshold > np.abs(d-kan_deltas)) for d in ver2_deltas.values()]\n",
    "mext_y2 = f*np.sum(same_threshold > np.abs(mext_deltas-kan_deltas))"
   ]
  },
  {
   "cell_type": "code",
   "execution_count": null,
   "metadata": {},
   "outputs": [],
   "source": [
    "fig, (ax1, ax3, ax2) = plt.subplots(1, 3, figsize=(20, 6))\n",
    "ax1.set_title(\"How often better delta than Chen et al.'s Merge \\n(higher better)\")\n",
    "ax3.set_title(\"How often worse delta than Chen et al.'s Merge \\n(lower better)\")\n",
    "l, = ax1.plot(ver1_ts, ver1_ys, \"x:\", label=\"Veritas A*\")\n",
    "ax3.plot(ver1_ts, ver1_ysb, \"x:\", c=l.get_color())\n",
    "\n",
    "l, = ax1.plot(ver2_ts, ver2_ys, \"o:\", label=\"Veritas ARA*\")\n",
    "ax3.plot(ver2_ts, ver2_ysb, \"x:\", c=l.get_color())\n",
    "\n",
    "for i, (x, y) in enumerate(zip(ver2_ts, ver2_ys)):\n",
    "    ax1.text(x, y+0.1, f\"{M[4,i]:.0f}×\", horizontalalignment='right', verticalalignment='bottom', c=\"gray\")\n",
    "l, = ax1.plot(mer_ts, mer_ys, \".:\", label=\"My Merge\")\n",
    "ax3.plot(mer_ts, mer_ysb, \"x:\", c=l.get_color())\n",
    "for i, (x, y) in enumerate(zip(mer_ts, mer_ys)):\n",
    "    ax1.text(x, y+0.1, f\"{M[5,i]:.0f}×\", horizontalalignment='right', verticalalignment='bottom', c=\"gray\")\n",
    "ax1.set_xlabel(\"Time bugdet [s]\")\n",
    "ax1.set_ylabel(f\"How often better than Chen et al.'s Merge' [%, n={len(mext_ad)}]\")\n",
    "ax3.set_xlabel(\"Time bugdet [s]\")\n",
    "ax3.set_ylabel(f\"How often worse than Chen et al.'s Merge' [%, n={len(mext_ad)}]\")\n",
    "ax1.legend()\n",
    "\n",
    "ax2.set_title(f\"How often optimal (< {same_threshold} difference)\\n(higher better)\")\n",
    "ax2.plot(ver1_ts, ver1_ys2, \"x:\", label=\"Veritas A*\")\n",
    "ax2.plot(ver2_ts, ver2_ys2, \"o:\", label=\"Veritas ARA*\")\n",
    "for i, (x, y) in enumerate(zip(ver1_ts, ver1_ys2)):\n",
    "    ax2.text(x-0.05, y+0.5, f\"{M[3,i]:.0f}×\", horizontalalignment='right', verticalalignment='bottom', c=\"gray\")\n",
    "ax2.plot(mer_ts, mer_ys2, \".:\", label=\"My Merge\")\n",
    "l, = ax2.plot([mext_t], [mext_y], \"v--\", lw=1, label=\"Chen et al.'s Merge\")\n",
    "ax2.axhline(y=mext_y, ls=l.get_linestyle(), c=l.get_color(), lw=l.get_linewidth())\n",
    "ax2.set_xlabel(\"Time bugdet [s]\")\n",
    "ax2.set_ylabel(f\"How often (near) optimal [%, n={len(mext_ad)}]\")\n",
    "ax2.legend()\n",
    "\n",
    "plt.show()"
   ]
  },
  {
   "cell_type": "markdown",
   "metadata": {},
   "source": [
    "# Slower wrt Chen et al.'s Merge / MILP"
   ]
  },
  {
   "cell_type": "code",
   "execution_count": null,
   "metadata": {},
   "outputs": [],
   "source": [
    "mer_ys = [np.mean(t/mext_times) for t in mer_times.values()]\n",
    "ver1_ys = [np.mean(t/mext_times) for t in ver1_times.values()]\n",
    "ver2_ys = [np.mean(t/mext_times) for t in ver2_times.values()]\n",
    "\n",
    "M = np.zeros((6, 5))\n",
    "M[0,:] = [np.mean(t) for t in ver1_times.values()]\n",
    "M[1,:] = [np.mean(t) for t in ver2_times.values()]\n",
    "M[2,:] = [np.mean(t) for t in mer_times.values()]\n",
    "M[3,:] = ver1_ys\n",
    "M[4,:] = ver2_ys\n",
    "M[5,:] = mer_ys\n",
    "\n",
    "kan_slower_mext = np.mean(kan_times/mext_times)"
   ]
  },
  {
   "cell_type": "code",
   "execution_count": null,
   "metadata": {},
   "outputs": [],
   "source": [
    "fig, ax = plt.subplots(figsize=(8, 6))\n",
    "ax.set_title(\"Average absolute deviation from MILP exact robustness delta per time budget\")\n",
    "ax.semilogy(ver1_ts, ver1_ys, \"x:\", label=\"Veritas A*\")\n",
    "ax.semilogy(ver2_ts, ver2_ys, \"o:\", label=\"Veritas ARA*\")\n",
    "ax.semilogy(mer_ts, mer_ys, \".:\", label=\"My Merge\")\n",
    "ax.set_xlabel(\"Time bugdet [s]\")\n",
    "ax.set_ylabel(\"Absolute deviation from MILP exact\")\n",
    "ax.legend()\n",
    "print(\"mean Chen et al.'s Merge: \", np.round(np.mean(mext_times), 2), \"seconds\")\n",
    "print(\"Kantchelian MILP:         \", np.round(kan_slower_mext, 1), \"x\")\n",
    "print()\n",
    "print(\"mean times [seconds]\")\n",
    "print(M[0:3,:].round(2))\n",
    "print(\"how much slower than Chen et al.'s Merge [times slower than...]\")\n",
    "print(M[3:,:].round(1))\n",
    "plt.show()"
   ]
  },
  {
   "cell_type": "code",
   "execution_count": null,
   "metadata": {},
   "outputs": [],
   "source": [
    "display(\"num_errors\", sum(x[\"merge_ext\"][\"exc\"] for x in jsons0e00_start40))\n",
    "display(\"ad delta\", np.mean(list(np.abs(k-x[\"merge_ext\"][\"deltas\"][-1]) for k, x in zip(kan_deltas, jsons0e00_start40) if not x[\"merge_ext\"][\"exc\"])))\n",
    "np.mean(list(x[\"merge_ext\"][\"times\"][-1] for x in jsons0e00_start40 if not x[\"merge_ext\"][\"exc\"]))"
   ]
  },
  {
   "cell_type": "code",
   "execution_count": null,
   "metadata": {},
   "outputs": [],
   "source": []
  },
  {
   "cell_type": "code",
   "execution_count": null,
   "metadata": {},
   "outputs": [],
   "source": []
  }
 ],
 "metadata": {
  "kernelspec": {
   "display_name": "Python 3",
   "language": "python",
   "name": "python3"
  },
  "language_info": {
   "codemirror_mode": {
    "name": "ipython",
    "version": 3
   },
   "file_extension": ".py",
   "mimetype": "text/x-python",
   "name": "python",
   "nbconvert_exporter": "python",
   "pygments_lexer": "ipython3",
   "version": "3.8.5"
  }
 },
 "nbformat": 4,
 "nbformat_minor": 4
}
